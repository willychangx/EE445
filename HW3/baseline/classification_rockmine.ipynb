{
 "cells": [
  {
   "cell_type": "code",
   "execution_count": null,
   "metadata": {},
   "outputs": [],
   "source": [
    "import numpy as np\n",
    "import pandas as pd\n",
    "from sklearn.preprocessing import LabelEncoder\n",
    "from sklearn.model_selection import train_test_split\n",
    "from sklearn.metrics import ConfusionMatrixDisplay\n",
    "from sklearn.metrics import confusion_matrix\n",
    "import matplotlib.pyplot as plt\n",
    "\n",
    "from keras.models import Sequential\n",
    "from keras.layers import Dense\n",
    "from keras.callbacks import EarlyStopping"
   ]
  },
  {
   "cell_type": "code",
   "execution_count": null,
   "metadata": {},
   "outputs": [],
   "source": [
    "# Data can be downloaded at https://archive.ics.uci.edu/ml/machine-learning-databases/undocumented/connectionist-bench/sonar/"
   ]
  },
  {
   "cell_type": "code",
   "execution_count": null,
   "metadata": {},
   "outputs": [],
   "source": [
    "dataframe = pd.read_csv(\"Data/sonar.all-data\", header=None)\n",
    "data = dataframe.values\n",
    "dataframe.head()"
   ]
  },
  {
   "cell_type": "code",
   "execution_count": 4,
   "metadata": {},
   "outputs": [],
   "source": [
    "X = data[:,0:60].astype(float)\n",
    "y = data[:,60]\n",
    "\n",
    "#change output to 0, 1 class label\n",
    "encoder = LabelEncoder()\n",
    "encoder.fit(y)\n",
    "y = encoder.transform(y)"
   ]
  },
  {
   "cell_type": "code",
   "execution_count": 5,
   "metadata": {},
   "outputs": [],
   "source": [
    "#separate into training and test set\n",
    "X_train, X_test, y_train, y_test = train_test_split(X, y, test_size=0.2, random_state=100) #20% of data is allocated to training"
   ]
  },
  {
   "cell_type": "code",
   "execution_count": 6,
   "metadata": {},
   "outputs": [
    {
     "name": "stderr",
     "output_type": "stream",
     "text": [
      "2022-04-14 21:15:59.282622: I tensorflow/core/platform/cpu_feature_guard.cc:145] This TensorFlow binary is optimized with Intel(R) MKL-DNN to use the following CPU instructions in performance critical operations:  SSE4.1 SSE4.2\n",
      "To enable them in non-MKL-DNN operations, rebuild TensorFlow with the appropriate compiler flags.\n",
      "2022-04-14 21:15:59.283088: I tensorflow/core/common_runtime/process_util.cc:115] Creating new thread pool with default inter op setting: 8. Tune using inter_op_parallelism_threads for best performance.\n"
     ]
    }
   ],
   "source": [
    "model = Sequential()\n",
    "model.add(Dense(32, input_dim=60, activation='relu'))\n",
    "model.add(Dense(1, activation='sigmoid'))\n",
    "model.compile(loss='binary_crossentropy', optimizer='adam', metrics=['accuracy'])"
   ]
  },
  {
   "cell_type": "code",
   "execution_count": 7,
   "metadata": {},
   "outputs": [],
   "source": [
    "callbacks = [EarlyStopping(monitor='val_accuracy', patience=20)]"
   ]
  },
  {
   "cell_type": "code",
   "execution_count": 8,
   "metadata": {},
   "outputs": [
    {
     "name": "stdout",
     "output_type": "stream",
     "text": [
      "Train on 149 samples, validate on 17 samples\n",
      "Epoch 1/1000\n",
      "149/149 [==============================] - 0s 3ms/step - loss: 0.6794 - accuracy: 0.5302 - val_loss: 0.6426 - val_accuracy: 0.7059\n",
      "Epoch 2/1000\n",
      "149/149 [==============================] - 0s 549us/step - loss: 0.6591 - accuracy: 0.6443 - val_loss: 0.6397 - val_accuracy: 0.6471\n",
      "Epoch 3/1000\n",
      "149/149 [==============================] - 0s 556us/step - loss: 0.6310 - accuracy: 0.6779 - val_loss: 0.6001 - val_accuracy: 0.7647\n",
      "Epoch 4/1000\n",
      "149/149 [==============================] - 0s 563us/step - loss: 0.6192 - accuracy: 0.6980 - val_loss: 0.5944 - val_accuracy: 0.6471\n",
      "Epoch 5/1000\n",
      "149/149 [==============================] - 0s 547us/step - loss: 0.5830 - accuracy: 0.7383 - val_loss: 0.5851 - val_accuracy: 0.6471\n",
      "Epoch 6/1000\n",
      "149/149 [==============================] - 0s 562us/step - loss: 0.5735 - accuracy: 0.7114 - val_loss: 0.5401 - val_accuracy: 0.8235\n",
      "Epoch 7/1000\n",
      "149/149 [==============================] - 0s 673us/step - loss: 0.5604 - accuracy: 0.7315 - val_loss: 0.5203 - val_accuracy: 0.8235\n",
      "Epoch 8/1000\n",
      "149/149 [==============================] - 0s 591us/step - loss: 0.5408 - accuracy: 0.7651 - val_loss: 0.5100 - val_accuracy: 0.7647\n",
      "Epoch 9/1000\n",
      "149/149 [==============================] - 0s 612us/step - loss: 0.5208 - accuracy: 0.7651 - val_loss: 0.4752 - val_accuracy: 0.8235\n",
      "Epoch 10/1000\n",
      "149/149 [==============================] - 0s 579us/step - loss: 0.5076 - accuracy: 0.7785 - val_loss: 0.4723 - val_accuracy: 0.8235\n",
      "Epoch 11/1000\n",
      "149/149 [==============================] - 0s 559us/step - loss: 0.4967 - accuracy: 0.7852 - val_loss: 0.4495 - val_accuracy: 0.8235\n",
      "Epoch 12/1000\n",
      "149/149 [==============================] - 0s 588us/step - loss: 0.4912 - accuracy: 0.7718 - val_loss: 0.4365 - val_accuracy: 0.8824\n",
      "Epoch 13/1000\n",
      "149/149 [==============================] - 0s 577us/step - loss: 0.4704 - accuracy: 0.7987 - val_loss: 0.4782 - val_accuracy: 0.7647\n",
      "Epoch 14/1000\n",
      "149/149 [==============================] - 0s 597us/step - loss: 0.4694 - accuracy: 0.7919 - val_loss: 0.4201 - val_accuracy: 0.8824\n",
      "Epoch 15/1000\n",
      "149/149 [==============================] - 0s 580us/step - loss: 0.4663 - accuracy: 0.7919 - val_loss: 0.4417 - val_accuracy: 0.8235\n",
      "Epoch 16/1000\n",
      "149/149 [==============================] - 0s 569us/step - loss: 0.4478 - accuracy: 0.8121 - val_loss: 0.4267 - val_accuracy: 0.8235\n",
      "Epoch 17/1000\n",
      "149/149 [==============================] - 0s 578us/step - loss: 0.4444 - accuracy: 0.7852 - val_loss: 0.4067 - val_accuracy: 0.8824\n",
      "Epoch 18/1000\n",
      "149/149 [==============================] - 0s 600us/step - loss: 0.4454 - accuracy: 0.7919 - val_loss: 0.4479 - val_accuracy: 0.8235\n",
      "Epoch 19/1000\n",
      "149/149 [==============================] - 0s 577us/step - loss: 0.4380 - accuracy: 0.7718 - val_loss: 0.4299 - val_accuracy: 0.8235\n",
      "Epoch 20/1000\n",
      "149/149 [==============================] - 0s 575us/step - loss: 0.4186 - accuracy: 0.8255 - val_loss: 0.4922 - val_accuracy: 0.7059\n",
      "Epoch 21/1000\n",
      "149/149 [==============================] - 0s 741us/step - loss: 0.4294 - accuracy: 0.7987 - val_loss: 0.4763 - val_accuracy: 0.7647\n",
      "Epoch 22/1000\n",
      "149/149 [==============================] - 0s 611us/step - loss: 0.4081 - accuracy: 0.8456 - val_loss: 0.5268 - val_accuracy: 0.7059\n",
      "Epoch 23/1000\n",
      "149/149 [==============================] - 0s 616us/step - loss: 0.4142 - accuracy: 0.7852 - val_loss: 0.6334 - val_accuracy: 0.5294\n",
      "Epoch 24/1000\n",
      "149/149 [==============================] - 0s 613us/step - loss: 0.4203 - accuracy: 0.8121 - val_loss: 0.5353 - val_accuracy: 0.7059\n",
      "Epoch 25/1000\n",
      "149/149 [==============================] - 0s 607us/step - loss: 0.4078 - accuracy: 0.8188 - val_loss: 0.4256 - val_accuracy: 0.8235\n",
      "Epoch 26/1000\n",
      "149/149 [==============================] - 0s 585us/step - loss: 0.3976 - accuracy: 0.8255 - val_loss: 0.4792 - val_accuracy: 0.7647\n",
      "Epoch 27/1000\n",
      "149/149 [==============================] - 0s 594us/step - loss: 0.3857 - accuracy: 0.8054 - val_loss: 0.4304 - val_accuracy: 0.8235\n",
      "Epoch 28/1000\n",
      "149/149 [==============================] - 0s 661us/step - loss: 0.3883 - accuracy: 0.8255 - val_loss: 0.4174 - val_accuracy: 0.8235\n",
      "Epoch 29/1000\n",
      "149/149 [==============================] - 0s 629us/step - loss: 0.3760 - accuracy: 0.8389 - val_loss: 0.4167 - val_accuracy: 0.8235\n",
      "Epoch 30/1000\n",
      "149/149 [==============================] - 0s 609us/step - loss: 0.3793 - accuracy: 0.8255 - val_loss: 0.4094 - val_accuracy: 0.8235\n",
      "Epoch 31/1000\n",
      "149/149 [==============================] - 0s 598us/step - loss: 0.3713 - accuracy: 0.8322 - val_loss: 0.4044 - val_accuracy: 0.8235\n",
      "Epoch 32/1000\n",
      "149/149 [==============================] - 0s 599us/step - loss: 0.3712 - accuracy: 0.8456 - val_loss: 0.4451 - val_accuracy: 0.8235\n"
     ]
    },
    {
     "data": {
      "text/plain": [
       "<keras.callbacks.callbacks.History at 0x7fd8fa0f0890>"
      ]
     },
     "execution_count": 8,
     "metadata": {},
     "output_type": "execute_result"
    }
   ],
   "source": [
    "n_epochs = 1000\n",
    "batch_size = 2\n",
    "model.fit(X_train, y_train, epochs=n_epochs, batch_size=batch_size, validation_split=0.1, callbacks=callbacks)"
   ]
  },
  {
   "cell_type": "code",
   "execution_count": 9,
   "metadata": {},
   "outputs": [
    {
     "name": "stdout",
     "output_type": "stream",
     "text": [
      "42/42 [==============================] - 0s 88us/step\n",
      "Test accuracy: 0.8333333134651184\n"
     ]
    }
   ],
   "source": [
    "score = model.evaluate(X_test, y_test, verbose=1)\n",
    "print('Test accuracy:', score[1]) #accuracy of the test set"
   ]
  },
  {
   "cell_type": "code",
   "execution_count": null,
   "metadata": {},
   "outputs": [],
   "source": [
    "#plot the confusion matrix"
   ]
  }
 ],
 "metadata": {
  "kernelspec": {
   "display_name": "Python 3 (ipykernel)",
   "language": "python",
   "name": "python3"
  },
  "language_info": {
   "codemirror_mode": {
    "name": "ipython",
    "version": 3
   },
   "file_extension": ".py",
   "mimetype": "text/x-python",
   "name": "python",
   "nbconvert_exporter": "python",
   "pygments_lexer": "ipython3",
   "version": "3.8.10"
  },
  "widgets": {
   "state": {},
   "version": "1.1.2"
  }
 },
 "nbformat": 4,
 "nbformat_minor": 2
}
