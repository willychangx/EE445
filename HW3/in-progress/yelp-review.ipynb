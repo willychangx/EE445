{
 "cells": [
  {
   "cell_type": "code",
   "execution_count": 1,
   "id": "48c91765",
   "metadata": {},
   "outputs": [],
   "source": [
    "import numpy as np\n",
    "import pandas as pd\n",
    "import matplotlib.pyplot as plt"
   ]
  },
  {
   "cell_type": "code",
   "execution_count": 2,
   "id": "2847e7bf",
   "metadata": {},
   "outputs": [],
   "source": [
    "labels = pd.read_csv('Data/upvote_features.txt', header=None)\n",
    "X = pd.read_csv('Data/upvote_data.csv', header=None)\n",
    "y = pd.read_csv('Data/upvote_labels.txt', header=None)"
   ]
  },
  {
   "cell_type": "markdown",
   "id": "4f104a61",
   "metadata": {},
   "source": [
    "## Problem 1a"
   ]
  },
  {
   "cell_type": "code",
   "execution_count": 168,
   "id": "0572634d",
   "metadata": {},
   "outputs": [],
   "source": [
    "X_mod = X.copy()\n",
    "X_mod.insert(0,'bias',1)\n",
    "X_mod.columns = range(X_mod.columns.size)"
   ]
  },
  {
   "cell_type": "code",
   "execution_count": 169,
   "id": "a3e0a623",
   "metadata": {},
   "outputs": [],
   "source": [
    "train_x,train_y = X_mod.loc[:3999,:],y.loc[:3999,:]\n",
    "test_x,test_y = X_mod.loc[4000:,:],y.loc[4000:,:]"
   ]
  },
  {
   "cell_type": "code",
   "execution_count": 170,
   "id": "78856e33",
   "metadata": {},
   "outputs": [],
   "source": [
    "def mse(predict,actual):\n",
    "    return float(np.sum((np.reshape(actual,len(actual)) - predict)**2)/len(predict))\n",
    "\n",
    "def lms(x,y,iterations=100,u=0.01):\n",
    "    N = len(x)\n",
    "    xT = np.transpose(x)\n",
    "    w = np.zeros([len(x[0]),1])\n",
    "    \n",
    "    for _ in range(iterations):\n",
    "        grad = 2/N*(((xT @ x) @ w) - (xT @ y))\n",
    "        w = w - u*grad\n",
    "    return w"
   ]
  },
  {
   "cell_type": "code",
   "execution_count": 174,
   "id": "86e900c1",
   "metadata": {},
   "outputs": [],
   "source": [
    "w = lms(train_x.to_numpy(),train_y.to_numpy(),100)"
   ]
  },
  {
   "cell_type": "code",
   "execution_count": 181,
   "id": "3ff9a904",
   "metadata": {},
   "outputs": [],
   "source": [
    "for i in w:\n",
    "    if not np.isnan(i[0]):\n",
    "        print(i)"
   ]
  },
  {
   "cell_type": "markdown",
   "id": "9acc4d6e",
   "metadata": {},
   "source": [
    "## Problem 1b"
   ]
  },
  {
   "cell_type": "code",
   "execution_count": 83,
   "id": "36680759",
   "metadata": {},
   "outputs": [],
   "source": [
    "from sklearn import linear_model"
   ]
  },
  {
   "cell_type": "code",
   "execution_count": 81,
   "id": "cc9a1d61",
   "metadata": {},
   "outputs": [],
   "source": [
    "train_x,train_y = X.loc[:3999,:],y.loc[:3999,:]\n",
    "val_x,val_y = X.loc[4000:4999,:],y.loc[4000:4999,:]\n",
    "test_x,test_y = X.loc[5000:,:],y.loc[5000:,:]"
   ]
  },
  {
   "cell_type": "code",
   "execution_count": 86,
   "id": "ca818378",
   "metadata": {},
   "outputs": [],
   "source": [
    "import warnings \n",
    "warnings.filterwarnings(\"ignore\")\n",
    "\n",
    "# reg_constant = np.logspace(-10,1,num=10)\n",
    "reg_constant = [10**i for i in range(-10,1)]\n",
    "coef = []\n",
    "intercept = []\n",
    "train_err = []\n",
    "val_err = []\n",
    "for reg in reg_constant:\n",
    "    clf = linear_model.Lasso(alpha=reg,tol=3e-6,max_iter=1e4)\n",
    "    clf.fit(train_x.to_numpy(), train_y.to_numpy())\n",
    "    train_err.append(mse(clf.predict(train_x.to_numpy()), train_y.to_numpy()))\n",
    "    val_err.append(mse(clf.predict(val_x.to_numpy()), val_y.to_numpy()))\n",
    "    intercept.append(clf.intercept_)\n",
    "    coef.append(clf.coef_)"
   ]
  },
  {
   "cell_type": "code",
   "execution_count": 147,
   "id": "2c2401e9",
   "metadata": {},
   "outputs": [
    {
     "data": {
      "text/plain": [
       "[<matplotlib.lines.Line2D at 0x7fdf65da0b50>,\n",
       " <matplotlib.lines.Line2D at 0x7fdf65da0bb0>]"
      ]
     },
     "execution_count": 147,
     "metadata": {},
     "output_type": "execute_result"
    },
    {
     "data": {
      "image/png": "[encoded data removed]",
      "text/plain": [
       "<Figure size 432x288 with 1 Axes>"
      ]
     },
     "metadata": {
      "needs_background": "light"
     },
     "output_type": "display_data"
    }
   ],
   "source": [
    "%matplotlib inline\n",
    "plt.loglog(reg_constant, train_err, reg_constant, val_err)"
   ]
  },
  {
   "cell_type": "code",
   "execution_count": 158,
   "id": "c7da69ee",
   "metadata": {},
   "outputs": [
    {
     "name": "stdout",
     "output_type": "stream",
     "text": [
      "Test Error for lambda = 0: 2.465583739005571\n"
     ]
    }
   ],
   "source": [
    "alpha=1e-7\n",
    "\n",
    "clf = linear_model.Lasso(alpha=alpha,tol=3e-6,max_iter=1e4)\n",
    "clf.fit(test_x.to_numpy(), test_y.to_numpy())\n",
    "print(f\"Test Error for lambda = {alpha}: {mse(clf.predict(test_x.to_numpy()), test_y.to_numpy())}\")"
   ]
  },
  {
   "cell_type": "markdown",
   "id": "75c6877b",
   "metadata": {},
   "source": [
    "## Problem 1c"
   ]
  },
  {
   "cell_type": "code",
   "execution_count": 76,
   "id": "3955034a",
   "metadata": {},
   "outputs": [],
   "source": [
    "from tensorflow import keras\n",
    "\n",
    "from sklearn.model_selection import train_test_split\n",
    "\n",
    "from keras.models import Sequential\n",
    "from keras.layers import Dense, Dropout\n",
    "from keras.callbacks import EarlyStopping\n",
    "from keras.regularizers import L1\n",
    "from tensorflow.keras.optimizers import Adam\n",
    "\n",
    "from sklearn.preprocessing import StandardScaler\n",
    "\n",
    "SEED = 1"
   ]
  },
  {
   "cell_type": "code",
   "execution_count": 64,
   "id": "34508aef",
   "metadata": {},
   "outputs": [],
   "source": [
    "X_train, X_test, y_train, y_test = train_test_split(X, y, test_size=0.2, random_state=SEED)\n",
    "\n",
    "scaler = StandardScaler().fit(X_train)\n",
    "X_train = pd.DataFrame(scaler.transform(X_train))\n",
    "X_test = pd.DataFrame(scaler.transform(X_test))"
   ]
  },
  {
   "cell_type": "code",
   "execution_count": 140,
   "id": "fd8b24be",
   "metadata": {},
   "outputs": [],
   "source": [
    "alpha=1e-3"
   ]
  },
  {
   "cell_type": "code",
   "execution_count": 165,
   "id": "18960a12",
   "metadata": {},
   "outputs": [],
   "source": [
    "model = Sequential()\n",
    "model.add(Dense(1, input_dim=X_train.shape[1], kernel_regularizer=L1(l1=alpha), activation='relu')) \n",
    "model.add(Dropout(0.5))\n",
    "model.add(Dense(1024, kernel_regularizer=L1(l1=alpha), activation='relu')) \n",
    "model.add(Dropout(0.5))\n",
    "model.add(Dense(1, kernel_regularizer=L1(l1=alpha), activation='linear'))\n",
    "\n",
    "model.compile(loss='mse', optimizer=\"adam\", metrics=['accuracy']) "
   ]
  },
  {
   "cell_type": "code",
   "execution_count": 118,
   "id": "0ae182af",
   "metadata": {},
   "outputs": [],
   "source": [
    "callbacks = [EarlyStopping(monitor='val_loss', patience=10, verbose=2)]"
   ]
  },
  {
   "cell_type": "code",
   "execution_count": 119,
   "id": "cb04e26b",
   "metadata": {},
   "outputs": [],
   "source": [
    "batch_size = 128\n",
    "n_epochs = 200"
   ]
  },
  {
   "cell_type": "code",
   "execution_count": 166,
   "id": "1cc55a20",
   "metadata": {},
   "outputs": [
    {
     "name": "stdout",
     "output_type": "stream",
     "text": [
      "Epoch 1/200\n",
      "30/30 - 0s - loss: 6.7142 - accuracy: 0.3393 - val_loss: 7.0274 - val_accuracy: 0.3115 - 346ms/epoch - 12ms/step\n",
      "Epoch 2/200\n",
      "30/30 - 0s - loss: 5.4814 - accuracy: 0.2724 - val_loss: 6.6936 - val_accuracy: 0.3115 - 93ms/epoch - 3ms/step\n",
      "Epoch 3/200\n",
      "30/30 - 0s - loss: 5.6944 - accuracy: 0.2724 - val_loss: 6.8670 - val_accuracy: 0.3115 - 96ms/epoch - 3ms/step\n",
      "Epoch 4/200\n",
      "30/30 - 0s - loss: 5.2721 - accuracy: 0.2724 - val_loss: 6.6688 - val_accuracy: 0.3115 - 91ms/epoch - 3ms/step\n",
      "Epoch 5/200\n",
      "30/30 - 0s - loss: 5.4204 - accuracy: 0.2724 - val_loss: 6.6268 - val_accuracy: 0.3115 - 90ms/epoch - 3ms/step\n",
      "Epoch 6/200\n",
      "30/30 - 0s - loss: 5.5878 - accuracy: 0.2724 - val_loss: 6.6747 - val_accuracy: 0.3115 - 94ms/epoch - 3ms/step\n",
      "Epoch 7/200\n",
      "30/30 - 0s - loss: 5.3449 - accuracy: 0.2724 - val_loss: 6.7434 - val_accuracy: 0.3115 - 92ms/epoch - 3ms/step\n",
      "Epoch 8/200\n",
      "30/30 - 0s - loss: 5.4324 - accuracy: 0.2724 - val_loss: 6.6380 - val_accuracy: 0.3115 - 86ms/epoch - 3ms/step\n",
      "Epoch 9/200\n",
      "30/30 - 0s - loss: 5.4909 - accuracy: 0.2724 - val_loss: 6.6865 - val_accuracy: 0.3115 - 87ms/epoch - 3ms/step\n",
      "Epoch 10/200\n",
      "30/30 - 0s - loss: 5.4898 - accuracy: 0.2724 - val_loss: 6.6070 - val_accuracy: 0.3115 - 92ms/epoch - 3ms/step\n",
      "Epoch 11/200\n",
      "30/30 - 0s - loss: 5.5825 - accuracy: 0.2724 - val_loss: 6.5867 - val_accuracy: 0.3115 - 94ms/epoch - 3ms/step\n",
      "Epoch 12/200\n",
      "30/30 - 0s - loss: 5.5688 - accuracy: 0.2724 - val_loss: 6.8278 - val_accuracy: 0.3115 - 85ms/epoch - 3ms/step\n",
      "Epoch 13/200\n",
      "30/30 - 0s - loss: 5.2563 - accuracy: 0.2724 - val_loss: 6.6894 - val_accuracy: 0.3115 - 82ms/epoch - 3ms/step\n",
      "Epoch 14/200\n",
      "30/30 - 0s - loss: 5.2477 - accuracy: 0.2724 - val_loss: 6.5362 - val_accuracy: 0.3115 - 89ms/epoch - 3ms/step\n",
      "Epoch 15/200\n",
      "30/30 - 0s - loss: 5.5307 - accuracy: 0.2724 - val_loss: 6.6887 - val_accuracy: 0.3115 - 89ms/epoch - 3ms/step\n",
      "Epoch 16/200\n",
      "30/30 - 0s - loss: 5.2532 - accuracy: 0.2724 - val_loss: 6.7498 - val_accuracy: 0.3115 - 88ms/epoch - 3ms/step\n",
      "Epoch 17/200\n",
      "30/30 - 0s - loss: 5.2380 - accuracy: 0.2724 - val_loss: 6.3506 - val_accuracy: 0.3115 - 82ms/epoch - 3ms/step\n",
      "Epoch 18/200\n",
      "30/30 - 0s - loss: 5.4153 - accuracy: 0.2724 - val_loss: 6.4573 - val_accuracy: 0.3115 - 86ms/epoch - 3ms/step\n",
      "Epoch 19/200\n",
      "30/30 - 0s - loss: 5.3735 - accuracy: 0.2724 - val_loss: 6.5088 - val_accuracy: 0.3115 - 84ms/epoch - 3ms/step\n",
      "Epoch 20/200\n",
      "30/30 - 0s - loss: 5.5416 - accuracy: 0.2724 - val_loss: 6.4353 - val_accuracy: 0.3115 - 85ms/epoch - 3ms/step\n",
      "Epoch 21/200\n",
      "30/30 - 0s - loss: 5.3412 - accuracy: 0.2724 - val_loss: 6.5815 - val_accuracy: 0.3115 - 84ms/epoch - 3ms/step\n",
      "Epoch 22/200\n",
      "30/30 - 0s - loss: 5.1457 - accuracy: 0.2724 - val_loss: 6.2482 - val_accuracy: 0.3115 - 83ms/epoch - 3ms/step\n",
      "Epoch 23/200\n",
      "30/30 - 0s - loss: 5.2243 - accuracy: 0.2724 - val_loss: 6.1702 - val_accuracy: 0.3115 - 85ms/epoch - 3ms/step\n",
      "Epoch 24/200\n",
      "30/30 - 0s - loss: 5.4251 - accuracy: 0.2724 - val_loss: 6.3642 - val_accuracy: 0.3115 - 84ms/epoch - 3ms/step\n",
      "Epoch 25/200\n",
      "30/30 - 0s - loss: 5.6271 - accuracy: 0.2724 - val_loss: 6.6193 - val_accuracy: 0.3115 - 81ms/epoch - 3ms/step\n",
      "Epoch 26/200\n",
      "30/30 - 0s - loss: 5.0149 - accuracy: 0.2724 - val_loss: 6.3747 - val_accuracy: 0.3115 - 87ms/epoch - 3ms/step\n",
      "Epoch 27/200\n",
      "30/30 - 0s - loss: 5.4029 - accuracy: 0.2724 - val_loss: 6.4161 - val_accuracy: 0.3115 - 91ms/epoch - 3ms/step\n",
      "Epoch 28/200\n",
      "30/30 - 0s - loss: 5.3194 - accuracy: 0.2724 - val_loss: 6.7292 - val_accuracy: 0.3115 - 82ms/epoch - 3ms/step\n",
      "Epoch 29/200\n",
      "30/30 - 0s - loss: 5.3078 - accuracy: 0.2724 - val_loss: 6.3461 - val_accuracy: 0.3115 - 84ms/epoch - 3ms/step\n",
      "Epoch 30/200\n",
      "30/30 - 0s - loss: 5.2510 - accuracy: 0.2724 - val_loss: 6.4727 - val_accuracy: 0.3115 - 90ms/epoch - 3ms/step\n",
      "Epoch 31/200\n",
      "30/30 - 0s - loss: 5.3752 - accuracy: 0.2724 - val_loss: 6.5398 - val_accuracy: 0.3115 - 90ms/epoch - 3ms/step\n",
      "Epoch 32/200\n",
      "30/30 - 0s - loss: 5.4240 - accuracy: 0.2724 - val_loss: 6.5135 - val_accuracy: 0.3115 - 85ms/epoch - 3ms/step\n",
      "Epoch 33/200\n",
      "30/30 - 0s - loss: 5.2681 - accuracy: 0.2724 - val_loss: 6.5988 - val_accuracy: 0.3115 - 82ms/epoch - 3ms/step\n",
      "Epoch 33: early stopping\n"
     ]
    },
    {
     "data": {
      "text/plain": [
       "<keras.callbacks.History at 0x7fdf6534beb0>"
      ]
     },
     "execution_count": 166,
     "metadata": {},
     "output_type": "execute_result"
    }
   ],
   "source": [
    "model.fit(X_train.values, y_train, batch_size=batch_size, epochs=n_epochs, validation_split=0.2,     \n",
    "             verbose=2, callbacks=callbacks)"
   ]
  },
  {
   "cell_type": "code",
   "execution_count": 167,
   "id": "64b8b1ac",
   "metadata": {},
   "outputs": [
    {
     "name": "stdout",
     "output_type": "stream",
     "text": [
      "38/38 [==============================] - 0s 509us/step - loss: 3.9192 - accuracy: 0.2908\n",
      "Test accuracy: 29.08%\n",
      "Test MSE: 3.92\n"
     ]
    }
   ],
   "source": [
    "score = model.evaluate(X_test.values, y_test)\n",
    "print('Test accuracy: %.2f%%' % (score[1]*100))\n",
    "print('Test MSE: %.2f' % (score[0]))"
   ]
  },
  {
   "cell_type": "code",
   "execution_count": null,
   "id": "46337bf6",
   "metadata": {},
   "outputs": [],
   "source": []
  }
 ],
 "metadata": {
  "kernelspec": {
   "display_name": "Python 3 (ipykernel)",
   "language": "python",
   "name": "python3"
  },
  "language_info": {
   "codemirror_mode": {
    "name": "ipython",
    "version": 3
   },
   "file_extension": ".py",
   "mimetype": "text/x-python",
   "name": "python",
   "nbconvert_exporter": "python",
   "pygments_lexer": "ipython3",
   "version": "3.8.10"
  }
 },
 "nbformat": 4,
 "nbformat_minor": 5
}
