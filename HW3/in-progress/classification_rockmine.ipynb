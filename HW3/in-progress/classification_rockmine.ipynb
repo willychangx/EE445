{
 "cells": [
  {
   "cell_type": "code",
   "execution_count": 1,
   "metadata": {},
   "outputs": [
    {
     "name": "stderr",
     "output_type": "stream",
     "text": [
      "2022-04-25 12:26:44.005381: W tensorflow/stream_executor/platform/default/dso_loader.cc:64] Could not load dynamic library 'libcudart.so.11.0'; dlerror: libcudart.so.11.0: cannot open shared object file: No such file or directory\n",
      "2022-04-25 12:26:44.005429: I tensorflow/stream_executor/cuda/cudart_stub.cc:29] Ignore above cudart dlerror if you do not have a GPU set up on your machine.\n"
     ]
    }
   ],
   "source": [
    "import numpy as np\n",
    "import pandas as pd\n",
    "from sklearn.preprocessing import LabelEncoder\n",
    "from sklearn.model_selection import train_test_split\n",
    "from sklearn.metrics import ConfusionMatrixDisplay\n",
    "from sklearn.metrics import confusion_matrix\n",
    "import matplotlib.pyplot as plt\n",
    "\n",
    "from keras.models import Sequential\n",
    "from keras.layers import Dense\n",
    "from keras.callbacks import EarlyStopping"
   ]
  },
  {
   "cell_type": "code",
   "execution_count": 2,
   "metadata": {},
   "outputs": [],
   "source": [
    "# Data can be downloaded at https://archive.ics.uci.edu/ml/machine-learning-databases/undocumented/connectionist-bench/sonar/"
   ]
  },
  {
   "cell_type": "code",
   "execution_count": 3,
   "metadata": {},
   "outputs": [
    {
     "data": {
      "text/html": [
       "<div>\n",
       "<style scoped>\n",
       "    .dataframe tbody tr th:only-of-type {\n",
       "        vertical-align: middle;\n",
       "    }\n",
       "\n",
       "    .dataframe tbody tr th {\n",
       "        vertical-align: top;\n",
       "    }\n",
       "\n",
       "    .dataframe thead th {\n",
       "        text-align: right;\n",
       "    }\n",
       "</style>\n",
       "<table border=\"1\" class=\"dataframe\">\n",
       "  <thead>\n",
       "    <tr style=\"text-align: right;\">\n",
       "      <th></th>\n",
       "      <th>0</th>\n",
       "      <th>1</th>\n",
       "      <th>2</th>\n",
       "      <th>3</th>\n",
       "      <th>4</th>\n",
       "      <th>5</th>\n",
       "      <th>6</th>\n",
       "      <th>7</th>\n",
       "      <th>8</th>\n",
       "      <th>9</th>\n",
       "      <th>...</th>\n",
       "      <th>51</th>\n",
       "      <th>52</th>\n",
       "      <th>53</th>\n",
       "      <th>54</th>\n",
       "      <th>55</th>\n",
       "      <th>56</th>\n",
       "      <th>57</th>\n",
       "      <th>58</th>\n",
       "      <th>59</th>\n",
       "      <th>60</th>\n",
       "    </tr>\n",
       "  </thead>\n",
       "  <tbody>\n",
       "    <tr>\n",
       "      <th>0</th>\n",
       "      <td>0.0200</td>\n",
       "      <td>0.0371</td>\n",
       "      <td>0.0428</td>\n",
       "      <td>0.0207</td>\n",
       "      <td>0.0954</td>\n",
       "      <td>0.0986</td>\n",
       "      <td>0.1539</td>\n",
       "      <td>0.1601</td>\n",
       "      <td>0.3109</td>\n",
       "      <td>0.2111</td>\n",
       "      <td>...</td>\n",
       "      <td>0.0027</td>\n",
       "      <td>0.0065</td>\n",
       "      <td>0.0159</td>\n",
       "      <td>0.0072</td>\n",
       "      <td>0.0167</td>\n",
       "      <td>0.0180</td>\n",
       "      <td>0.0084</td>\n",
       "      <td>0.0090</td>\n",
       "      <td>0.0032</td>\n",
       "      <td>R</td>\n",
       "    </tr>\n",
       "    <tr>\n",
       "      <th>1</th>\n",
       "      <td>0.0453</td>\n",
       "      <td>0.0523</td>\n",
       "      <td>0.0843</td>\n",
       "      <td>0.0689</td>\n",
       "      <td>0.1183</td>\n",
       "      <td>0.2583</td>\n",
       "      <td>0.2156</td>\n",
       "      <td>0.3481</td>\n",
       "      <td>0.3337</td>\n",
       "      <td>0.2872</td>\n",
       "      <td>...</td>\n",
       "      <td>0.0084</td>\n",
       "      <td>0.0089</td>\n",
       "      <td>0.0048</td>\n",
       "      <td>0.0094</td>\n",
       "      <td>0.0191</td>\n",
       "      <td>0.0140</td>\n",
       "      <td>0.0049</td>\n",
       "      <td>0.0052</td>\n",
       "      <td>0.0044</td>\n",
       "      <td>R</td>\n",
       "    </tr>\n",
       "    <tr>\n",
       "      <th>2</th>\n",
       "      <td>0.0262</td>\n",
       "      <td>0.0582</td>\n",
       "      <td>0.1099</td>\n",
       "      <td>0.1083</td>\n",
       "      <td>0.0974</td>\n",
       "      <td>0.2280</td>\n",
       "      <td>0.2431</td>\n",
       "      <td>0.3771</td>\n",
       "      <td>0.5598</td>\n",
       "      <td>0.6194</td>\n",
       "      <td>...</td>\n",
       "      <td>0.0232</td>\n",
       "      <td>0.0166</td>\n",
       "      <td>0.0095</td>\n",
       "      <td>0.0180</td>\n",
       "      <td>0.0244</td>\n",
       "      <td>0.0316</td>\n",
       "      <td>0.0164</td>\n",
       "      <td>0.0095</td>\n",
       "      <td>0.0078</td>\n",
       "      <td>R</td>\n",
       "    </tr>\n",
       "    <tr>\n",
       "      <th>3</th>\n",
       "      <td>0.0100</td>\n",
       "      <td>0.0171</td>\n",
       "      <td>0.0623</td>\n",
       "      <td>0.0205</td>\n",
       "      <td>0.0205</td>\n",
       "      <td>0.0368</td>\n",
       "      <td>0.1098</td>\n",
       "      <td>0.1276</td>\n",
       "      <td>0.0598</td>\n",
       "      <td>0.1264</td>\n",
       "      <td>...</td>\n",
       "      <td>0.0121</td>\n",
       "      <td>0.0036</td>\n",
       "      <td>0.0150</td>\n",
       "      <td>0.0085</td>\n",
       "      <td>0.0073</td>\n",
       "      <td>0.0050</td>\n",
       "      <td>0.0044</td>\n",
       "      <td>0.0040</td>\n",
       "      <td>0.0117</td>\n",
       "      <td>R</td>\n",
       "    </tr>\n",
       "    <tr>\n",
       "      <th>4</th>\n",
       "      <td>0.0762</td>\n",
       "      <td>0.0666</td>\n",
       "      <td>0.0481</td>\n",
       "      <td>0.0394</td>\n",
       "      <td>0.0590</td>\n",
       "      <td>0.0649</td>\n",
       "      <td>0.1209</td>\n",
       "      <td>0.2467</td>\n",
       "      <td>0.3564</td>\n",
       "      <td>0.4459</td>\n",
       "      <td>...</td>\n",
       "      <td>0.0031</td>\n",
       "      <td>0.0054</td>\n",
       "      <td>0.0105</td>\n",
       "      <td>0.0110</td>\n",
       "      <td>0.0015</td>\n",
       "      <td>0.0072</td>\n",
       "      <td>0.0048</td>\n",
       "      <td>0.0107</td>\n",
       "      <td>0.0094</td>\n",
       "      <td>R</td>\n",
       "    </tr>\n",
       "  </tbody>\n",
       "</table>\n",
       "<p>5 rows × 61 columns</p>\n",
       "</div>"
      ],
      "text/plain": [
       "       0       1       2       3       4       5       6       7       8   \\\n",
       "0  0.0200  0.0371  0.0428  0.0207  0.0954  0.0986  0.1539  0.1601  0.3109   \n",
       "1  0.0453  0.0523  0.0843  0.0689  0.1183  0.2583  0.2156  0.3481  0.3337   \n",
       "2  0.0262  0.0582  0.1099  0.1083  0.0974  0.2280  0.2431  0.3771  0.5598   \n",
       "3  0.0100  0.0171  0.0623  0.0205  0.0205  0.0368  0.1098  0.1276  0.0598   \n",
       "4  0.0762  0.0666  0.0481  0.0394  0.0590  0.0649  0.1209  0.2467  0.3564   \n",
       "\n",
       "       9   ...      51      52      53      54      55      56      57  \\\n",
       "0  0.2111  ...  0.0027  0.0065  0.0159  0.0072  0.0167  0.0180  0.0084   \n",
       "1  0.2872  ...  0.0084  0.0089  0.0048  0.0094  0.0191  0.0140  0.0049   \n",
       "2  0.6194  ...  0.0232  0.0166  0.0095  0.0180  0.0244  0.0316  0.0164   \n",
       "3  0.1264  ...  0.0121  0.0036  0.0150  0.0085  0.0073  0.0050  0.0044   \n",
       "4  0.4459  ...  0.0031  0.0054  0.0105  0.0110  0.0015  0.0072  0.0048   \n",
       "\n",
       "       58      59  60  \n",
       "0  0.0090  0.0032   R  \n",
       "1  0.0052  0.0044   R  \n",
       "2  0.0095  0.0078   R  \n",
       "3  0.0040  0.0117   R  \n",
       "4  0.0107  0.0094   R  \n",
       "\n",
       "[5 rows x 61 columns]"
      ]
     },
     "execution_count": 3,
     "metadata": {},
     "output_type": "execute_result"
    }
   ],
   "source": [
    "dataframe = pd.read_csv(\"Data/sonar.all-data\", header=None)\n",
    "data = dataframe.values\n",
    "dataframe.head()"
   ]
  },
  {
   "cell_type": "code",
   "execution_count": 4,
   "metadata": {},
   "outputs": [],
   "source": [
    "X = data[:,0:60].astype(float)\n",
    "y = data[:,60]\n",
    "\n",
    "#change output to 0, 1 class label\n",
    "encoder = LabelEncoder()\n",
    "encoder.fit(y)\n",
    "y = encoder.transform(y)"
   ]
  },
  {
   "cell_type": "code",
   "execution_count": 5,
   "metadata": {},
   "outputs": [],
   "source": [
    "#separate into training and test set\n",
    "X_train, X_test, y_train, y_test = train_test_split(X, y, test_size=0.2, random_state=100) #20% of data is allocated to training"
   ]
  },
  {
   "cell_type": "code",
   "execution_count": 6,
   "metadata": {},
   "outputs": [
    {
     "name": "stderr",
     "output_type": "stream",
     "text": [
      "2022-04-25 12:26:45.170158: W tensorflow/stream_executor/platform/default/dso_loader.cc:64] Could not load dynamic library 'libcuda.so.1'; dlerror: libcuda.so.1: cannot open shared object file: No such file or directory\n",
      "2022-04-25 12:26:45.170203: W tensorflow/stream_executor/cuda/cuda_driver.cc:269] failed call to cuInit: UNKNOWN ERROR (303)\n",
      "2022-04-25 12:26:45.170234: I tensorflow/stream_executor/cuda/cuda_diagnostics.cc:156] kernel driver does not appear to be running on this host (Willy): /proc/driver/nvidia/version does not exist\n",
      "2022-04-25 12:26:45.170492: I tensorflow/core/platform/cpu_feature_guard.cc:151] This TensorFlow binary is optimized with oneAPI Deep Neural Network Library (oneDNN) to use the following CPU instructions in performance-critical operations:  AVX2 FMA\n",
      "To enable them in other operations, rebuild TensorFlow with the appropriate compiler flags.\n"
     ]
    }
   ],
   "source": [
    "model = Sequential()\n",
    "model.add(Dense(32, input_dim=60, activation='relu'))\n",
    "model.add(Dense(1, activation='sigmoid'))\n",
    "model.compile(loss='binary_crossentropy', optimizer='adam', metrics=['accuracy'])"
   ]
  },
  {
   "cell_type": "code",
   "execution_count": 7,
   "metadata": {},
   "outputs": [],
   "source": [
    "callbacks = [EarlyStopping(monitor='val_accuracy', patience=20)]"
   ]
  },
  {
   "cell_type": "code",
   "execution_count": 8,
   "metadata": {},
   "outputs": [
    {
     "name": "stdout",
     "output_type": "stream",
     "text": [
      "Epoch 1/1000\n",
      "75/75 [==============================] - 0s 2ms/step - loss: 0.7008 - accuracy: 0.5302 - val_loss: 0.6687 - val_accuracy: 0.6471\n",
      "Epoch 2/1000\n",
      "75/75 [==============================] - 0s 678us/step - loss: 0.6794 - accuracy: 0.5839 - val_loss: 0.6401 - val_accuracy: 0.7647\n",
      "Epoch 3/1000\n",
      "75/75 [==============================] - 0s 670us/step - loss: 0.6691 - accuracy: 0.6174 - val_loss: 0.6236 - val_accuracy: 0.8235\n",
      "Epoch 4/1000\n",
      "75/75 [==============================] - 0s 667us/step - loss: 0.6539 - accuracy: 0.6443 - val_loss: 0.6171 - val_accuracy: 0.7059\n",
      "Epoch 5/1000\n",
      "75/75 [==============================] - 0s 666us/step - loss: 0.6361 - accuracy: 0.6846 - val_loss: 0.5899 - val_accuracy: 0.7647\n",
      "Epoch 6/1000\n",
      "75/75 [==============================] - 0s 669us/step - loss: 0.6283 - accuracy: 0.6913 - val_loss: 0.5647 - val_accuracy: 0.8235\n",
      "Epoch 7/1000\n",
      "75/75 [==============================] - 0s 663us/step - loss: 0.6107 - accuracy: 0.6846 - val_loss: 0.5703 - val_accuracy: 0.6471\n",
      "Epoch 8/1000\n",
      "75/75 [==============================] - 0s 660us/step - loss: 0.5937 - accuracy: 0.7450 - val_loss: 0.5462 - val_accuracy: 0.7059\n",
      "Epoch 9/1000\n",
      "75/75 [==============================] - 0s 660us/step - loss: 0.5726 - accuracy: 0.7517 - val_loss: 0.5515 - val_accuracy: 0.5882\n",
      "Epoch 10/1000\n",
      "75/75 [==============================] - 0s 655us/step - loss: 0.5680 - accuracy: 0.7181 - val_loss: 0.5047 - val_accuracy: 0.8824\n",
      "Epoch 11/1000\n",
      "75/75 [==============================] - 0s 667us/step - loss: 0.5456 - accuracy: 0.7718 - val_loss: 0.4972 - val_accuracy: 0.8824\n",
      "Epoch 12/1000\n",
      "75/75 [==============================] - 0s 668us/step - loss: 0.5434 - accuracy: 0.7584 - val_loss: 0.4826 - val_accuracy: 0.8824\n",
      "Epoch 13/1000\n",
      "75/75 [==============================] - 0s 654us/step - loss: 0.5256 - accuracy: 0.7517 - val_loss: 0.4779 - val_accuracy: 0.8235\n",
      "Epoch 14/1000\n",
      "75/75 [==============================] - 0s 655us/step - loss: 0.5133 - accuracy: 0.7651 - val_loss: 0.4461 - val_accuracy: 0.8824\n",
      "Epoch 15/1000\n",
      "75/75 [==============================] - 0s 658us/step - loss: 0.5105 - accuracy: 0.7852 - val_loss: 0.4701 - val_accuracy: 0.8235\n",
      "Epoch 16/1000\n",
      "75/75 [==============================] - 0s 677us/step - loss: 0.4959 - accuracy: 0.7852 - val_loss: 0.4616 - val_accuracy: 0.8235\n",
      "Epoch 17/1000\n",
      "75/75 [==============================] - 0s 655us/step - loss: 0.4868 - accuracy: 0.7919 - val_loss: 0.4235 - val_accuracy: 0.8824\n",
      "Epoch 18/1000\n",
      "75/75 [==============================] - 0s 660us/step - loss: 0.4817 - accuracy: 0.7718 - val_loss: 0.4282 - val_accuracy: 0.8824\n",
      "Epoch 19/1000\n",
      "75/75 [==============================] - 0s 670us/step - loss: 0.4765 - accuracy: 0.7987 - val_loss: 0.4322 - val_accuracy: 0.8824\n",
      "Epoch 20/1000\n",
      "75/75 [==============================] - 0s 653us/step - loss: 0.4674 - accuracy: 0.8121 - val_loss: 0.4049 - val_accuracy: 0.8824\n",
      "Epoch 21/1000\n",
      "75/75 [==============================] - 0s 656us/step - loss: 0.4636 - accuracy: 0.8188 - val_loss: 0.4557 - val_accuracy: 0.8235\n",
      "Epoch 22/1000\n",
      "75/75 [==============================] - 0s 683us/step - loss: 0.4599 - accuracy: 0.7584 - val_loss: 0.4199 - val_accuracy: 0.8824\n",
      "Epoch 23/1000\n",
      "75/75 [==============================] - 0s 664us/step - loss: 0.4513 - accuracy: 0.7919 - val_loss: 0.4204 - val_accuracy: 0.8235\n",
      "Epoch 24/1000\n",
      "75/75 [==============================] - 0s 677us/step - loss: 0.4458 - accuracy: 0.7987 - val_loss: 0.4508 - val_accuracy: 0.8235\n",
      "Epoch 25/1000\n",
      "75/75 [==============================] - 0s 669us/step - loss: 0.4389 - accuracy: 0.8255 - val_loss: 0.4093 - val_accuracy: 0.8235\n",
      "Epoch 26/1000\n",
      "75/75 [==============================] - 0s 650us/step - loss: 0.4461 - accuracy: 0.8121 - val_loss: 0.4163 - val_accuracy: 0.8235\n",
      "Epoch 27/1000\n",
      "75/75 [==============================] - 0s 670us/step - loss: 0.4297 - accuracy: 0.7718 - val_loss: 0.4084 - val_accuracy: 0.8824\n",
      "Epoch 28/1000\n",
      "75/75 [==============================] - 0s 665us/step - loss: 0.4276 - accuracy: 0.8255 - val_loss: 0.4512 - val_accuracy: 0.8235\n",
      "Epoch 29/1000\n",
      "75/75 [==============================] - 0s 665us/step - loss: 0.4220 - accuracy: 0.7987 - val_loss: 0.4043 - val_accuracy: 0.8235\n",
      "Epoch 30/1000\n",
      "75/75 [==============================] - 0s 671us/step - loss: 0.4252 - accuracy: 0.8121 - val_loss: 0.4404 - val_accuracy: 0.8235\n"
     ]
    },
    {
     "data": {
      "text/plain": [
       "<keras.callbacks.History at 0x7f8df86e4a30>"
      ]
     },
     "execution_count": 8,
     "metadata": {},
     "output_type": "execute_result"
    }
   ],
   "source": [
    "n_epochs = 1000\n",
    "batch_size = 2\n",
    "model.fit(X_train, y_train, epochs=n_epochs, batch_size=batch_size, validation_split=0.1, callbacks=callbacks)"
   ]
  },
  {
   "cell_type": "code",
   "execution_count": 9,
   "metadata": {},
   "outputs": [
    {
     "name": "stdout",
     "output_type": "stream",
     "text": [
      "2/2 [==============================] - 0s 912us/step - loss: 0.3650 - accuracy: 0.8333\n",
      "Test accuracy: 0.8333333134651184\n"
     ]
    }
   ],
   "source": [
    "score = model.evaluate(X_test, y_test, verbose=1)\n",
    "print('Test accuracy:', score[1]) #accuracy of the test set"
   ]
  },
  {
   "cell_type": "code",
   "execution_count": 10,
   "metadata": {},
   "outputs": [],
   "source": [
    "#plot the confusion matrix"
   ]
  }
 ],
 "metadata": {
  "kernelspec": {
   "display_name": "Python 3 (ipykernel)",
   "language": "python",
   "name": "python3"
  },
  "language_info": {
   "codemirror_mode": {
    "name": "ipython",
    "version": 3
   },
   "file_extension": ".py",
   "mimetype": "text/x-python",
   "name": "python",
   "nbconvert_exporter": "python",
   "pygments_lexer": "ipython3",
   "version": "3.8.10"
  },
  "widgets": {
   "state": {},
   "version": "1.1.2"
  }
 },
 "nbformat": 4,
 "nbformat_minor": 2
}
