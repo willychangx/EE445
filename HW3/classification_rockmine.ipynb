{
 "cells": [
  {
   "cell_type": "code",
   "execution_count": 1,
   "metadata": {},
   "outputs": [],
   "source": [
    "import numpy as np\n",
    "import pandas as pd\n",
    "from sklearn.preprocessing import LabelEncoder\n",
    "from sklearn.model_selection import train_test_split\n",
    "from sklearn.metrics import ConfusionMatrixDisplay\n",
    "from sklearn.metrics import confusion_matrix\n",
    "import matplotlib.pyplot as plt\n",
    "\n",
    "from keras.models import Sequential\n",
    "from keras.layers import Dense\n",
    "from keras.callbacks import EarlyStopping"
   ]
  },
  {
   "cell_type": "code",
   "execution_count": 2,
   "metadata": {},
   "outputs": [],
   "source": [
    "# Data can be downloaded at https://archive.ics.uci.edu/ml/machine-learning-databases/undocumented/connectionist-bench/sonar/"
   ]
  },
  {
   "cell_type": "code",
   "execution_count": 3,
   "metadata": {},
   "outputs": [
    {
     "data": {
      "text/html": [
       "<div>\n",
       "<style scoped>\n",
       "    .dataframe tbody tr th:only-of-type {\n",
       "        vertical-align: middle;\n",
       "    }\n",
       "\n",
       "    .dataframe tbody tr th {\n",
       "        vertical-align: top;\n",
       "    }\n",
       "\n",
       "    .dataframe thead th {\n",
       "        text-align: right;\n",
       "    }\n",
       "</style>\n",
       "<table border=\"1\" class=\"dataframe\">\n",
       "  <thead>\n",
       "    <tr style=\"text-align: right;\">\n",
       "      <th></th>\n",
       "      <th>0</th>\n",
       "      <th>1</th>\n",
       "      <th>2</th>\n",
       "      <th>3</th>\n",
       "      <th>4</th>\n",
       "      <th>5</th>\n",
       "      <th>6</th>\n",
       "      <th>7</th>\n",
       "      <th>8</th>\n",
       "      <th>9</th>\n",
       "      <th>...</th>\n",
       "      <th>51</th>\n",
       "      <th>52</th>\n",
       "      <th>53</th>\n",
       "      <th>54</th>\n",
       "      <th>55</th>\n",
       "      <th>56</th>\n",
       "      <th>57</th>\n",
       "      <th>58</th>\n",
       "      <th>59</th>\n",
       "      <th>60</th>\n",
       "    </tr>\n",
       "  </thead>\n",
       "  <tbody>\n",
       "    <tr>\n",
       "      <th>0</th>\n",
       "      <td>0.0200</td>\n",
       "      <td>0.0371</td>\n",
       "      <td>0.0428</td>\n",
       "      <td>0.0207</td>\n",
       "      <td>0.0954</td>\n",
       "      <td>0.0986</td>\n",
       "      <td>0.1539</td>\n",
       "      <td>0.1601</td>\n",
       "      <td>0.3109</td>\n",
       "      <td>0.2111</td>\n",
       "      <td>...</td>\n",
       "      <td>0.0027</td>\n",
       "      <td>0.0065</td>\n",
       "      <td>0.0159</td>\n",
       "      <td>0.0072</td>\n",
       "      <td>0.0167</td>\n",
       "      <td>0.0180</td>\n",
       "      <td>0.0084</td>\n",
       "      <td>0.0090</td>\n",
       "      <td>0.0032</td>\n",
       "      <td>R</td>\n",
       "    </tr>\n",
       "    <tr>\n",
       "      <th>1</th>\n",
       "      <td>0.0453</td>\n",
       "      <td>0.0523</td>\n",
       "      <td>0.0843</td>\n",
       "      <td>0.0689</td>\n",
       "      <td>0.1183</td>\n",
       "      <td>0.2583</td>\n",
       "      <td>0.2156</td>\n",
       "      <td>0.3481</td>\n",
       "      <td>0.3337</td>\n",
       "      <td>0.2872</td>\n",
       "      <td>...</td>\n",
       "      <td>0.0084</td>\n",
       "      <td>0.0089</td>\n",
       "      <td>0.0048</td>\n",
       "      <td>0.0094</td>\n",
       "      <td>0.0191</td>\n",
       "      <td>0.0140</td>\n",
       "      <td>0.0049</td>\n",
       "      <td>0.0052</td>\n",
       "      <td>0.0044</td>\n",
       "      <td>R</td>\n",
       "    </tr>\n",
       "    <tr>\n",
       "      <th>2</th>\n",
       "      <td>0.0262</td>\n",
       "      <td>0.0582</td>\n",
       "      <td>0.1099</td>\n",
       "      <td>0.1083</td>\n",
       "      <td>0.0974</td>\n",
       "      <td>0.2280</td>\n",
       "      <td>0.2431</td>\n",
       "      <td>0.3771</td>\n",
       "      <td>0.5598</td>\n",
       "      <td>0.6194</td>\n",
       "      <td>...</td>\n",
       "      <td>0.0232</td>\n",
       "      <td>0.0166</td>\n",
       "      <td>0.0095</td>\n",
       "      <td>0.0180</td>\n",
       "      <td>0.0244</td>\n",
       "      <td>0.0316</td>\n",
       "      <td>0.0164</td>\n",
       "      <td>0.0095</td>\n",
       "      <td>0.0078</td>\n",
       "      <td>R</td>\n",
       "    </tr>\n",
       "    <tr>\n",
       "      <th>3</th>\n",
       "      <td>0.0100</td>\n",
       "      <td>0.0171</td>\n",
       "      <td>0.0623</td>\n",
       "      <td>0.0205</td>\n",
       "      <td>0.0205</td>\n",
       "      <td>0.0368</td>\n",
       "      <td>0.1098</td>\n",
       "      <td>0.1276</td>\n",
       "      <td>0.0598</td>\n",
       "      <td>0.1264</td>\n",
       "      <td>...</td>\n",
       "      <td>0.0121</td>\n",
       "      <td>0.0036</td>\n",
       "      <td>0.0150</td>\n",
       "      <td>0.0085</td>\n",
       "      <td>0.0073</td>\n",
       "      <td>0.0050</td>\n",
       "      <td>0.0044</td>\n",
       "      <td>0.0040</td>\n",
       "      <td>0.0117</td>\n",
       "      <td>R</td>\n",
       "    </tr>\n",
       "    <tr>\n",
       "      <th>4</th>\n",
       "      <td>0.0762</td>\n",
       "      <td>0.0666</td>\n",
       "      <td>0.0481</td>\n",
       "      <td>0.0394</td>\n",
       "      <td>0.0590</td>\n",
       "      <td>0.0649</td>\n",
       "      <td>0.1209</td>\n",
       "      <td>0.2467</td>\n",
       "      <td>0.3564</td>\n",
       "      <td>0.4459</td>\n",
       "      <td>...</td>\n",
       "      <td>0.0031</td>\n",
       "      <td>0.0054</td>\n",
       "      <td>0.0105</td>\n",
       "      <td>0.0110</td>\n",
       "      <td>0.0015</td>\n",
       "      <td>0.0072</td>\n",
       "      <td>0.0048</td>\n",
       "      <td>0.0107</td>\n",
       "      <td>0.0094</td>\n",
       "      <td>R</td>\n",
       "    </tr>\n",
       "  </tbody>\n",
       "</table>\n",
       "<p>5 rows × 61 columns</p>\n",
       "</div>"
      ],
      "text/plain": [
       "       0       1       2       3       4       5       6       7       8   \\\n",
       "0  0.0200  0.0371  0.0428  0.0207  0.0954  0.0986  0.1539  0.1601  0.3109   \n",
       "1  0.0453  0.0523  0.0843  0.0689  0.1183  0.2583  0.2156  0.3481  0.3337   \n",
       "2  0.0262  0.0582  0.1099  0.1083  0.0974  0.2280  0.2431  0.3771  0.5598   \n",
       "3  0.0100  0.0171  0.0623  0.0205  0.0205  0.0368  0.1098  0.1276  0.0598   \n",
       "4  0.0762  0.0666  0.0481  0.0394  0.0590  0.0649  0.1209  0.2467  0.3564   \n",
       "\n",
       "       9   ...      51      52      53      54      55      56      57  \\\n",
       "0  0.2111  ...  0.0027  0.0065  0.0159  0.0072  0.0167  0.0180  0.0084   \n",
       "1  0.2872  ...  0.0084  0.0089  0.0048  0.0094  0.0191  0.0140  0.0049   \n",
       "2  0.6194  ...  0.0232  0.0166  0.0095  0.0180  0.0244  0.0316  0.0164   \n",
       "3  0.1264  ...  0.0121  0.0036  0.0150  0.0085  0.0073  0.0050  0.0044   \n",
       "4  0.4459  ...  0.0031  0.0054  0.0105  0.0110  0.0015  0.0072  0.0048   \n",
       "\n",
       "       58      59  60  \n",
       "0  0.0090  0.0032   R  \n",
       "1  0.0052  0.0044   R  \n",
       "2  0.0095  0.0078   R  \n",
       "3  0.0040  0.0117   R  \n",
       "4  0.0107  0.0094   R  \n",
       "\n",
       "[5 rows x 61 columns]"
      ]
     },
     "execution_count": 3,
     "metadata": {},
     "output_type": "execute_result"
    }
   ],
   "source": [
    "dataframe = pd.read_csv(\"Data/sonar.all-data\", header=None)\n",
    "data = dataframe.values\n",
    "dataframe.head()"
   ]
  },
  {
   "cell_type": "code",
   "execution_count": 4,
   "metadata": {},
   "outputs": [],
   "source": [
    "X = data[:,0:60].astype(float)\n",
    "y = data[:,60]\n",
    "\n",
    "#change output to 0, 1 class label\n",
    "encoder = LabelEncoder()\n",
    "encoder.fit(y)\n",
    "y = encoder.transform(y)"
   ]
  },
  {
   "cell_type": "code",
   "execution_count": 5,
   "metadata": {},
   "outputs": [],
   "source": [
    "#separate into training and test set\n",
    "X_train, X_test, y_train, y_test = train_test_split(X, y, test_size=0.2, random_state=100) #20% of data is allocated to training"
   ]
  },
  {
   "cell_type": "code",
   "execution_count": 6,
   "metadata": {},
   "outputs": [
    {
     "name": "stderr",
     "output_type": "stream",
     "text": [
      "2022-05-05 22:26:00.895737: I tensorflow/stream_executor/cuda/cuda_gpu_executor.cc:922] could not open file to read NUMA node: /sys/bus/pci/devices/0000:01:00.0/numa_node\n",
      "Your kernel may have been built without NUMA support.\n",
      "2022-05-05 22:26:00.900038: W tensorflow/stream_executor/platform/default/dso_loader.cc:64] Could not load dynamic library 'libcusolver.so.11'; dlerror: libcusolver.so.11: cannot open shared object file: No such file or directory\n",
      "2022-05-05 22:26:00.900983: W tensorflow/stream_executor/platform/default/dso_loader.cc:64] Could not load dynamic library 'libcudnn.so.8'; dlerror: libcudnn.so.8: cannot open shared object file: No such file or directory\n",
      "2022-05-05 22:26:00.901001: W tensorflow/core/common_runtime/gpu/gpu_device.cc:1850] Cannot dlopen some GPU libraries. Please make sure the missing libraries mentioned above are installed properly if you would like to use GPU. Follow the guide at https://www.tensorflow.org/install/gpu for how to download and setup the required libraries for your platform.\n",
      "Skipping registering GPU devices...\n",
      "2022-05-05 22:26:00.901553: I tensorflow/core/platform/cpu_feature_guard.cc:151] This TensorFlow binary is optimized with oneAPI Deep Neural Network Library (oneDNN) to use the following CPU instructions in performance-critical operations:  AVX2 FMA\n",
      "To enable them in other operations, rebuild TensorFlow with the appropriate compiler flags.\n"
     ]
    }
   ],
   "source": [
    "model = Sequential()\n",
    "model.add(Dense(32, input_dim=60, activation='relu'))\n",
    "model.add(Dense(64, activation='relu'))\n",
    "model.add(Dense(16, activation='relu'))\n",
    "model.add(Dense(1, activation='sigmoid'))\n",
    "model.compile(loss='binary_crossentropy', optimizer='adam', metrics=['accuracy'])"
   ]
  },
  {
   "cell_type": "code",
   "execution_count": 7,
   "metadata": {},
   "outputs": [],
   "source": [
    "callbacks = [EarlyStopping(monitor='val_accuracy', patience=20)]"
   ]
  },
  {
   "cell_type": "code",
   "execution_count": 8,
   "metadata": {},
   "outputs": [
    {
     "name": "stdout",
     "output_type": "stream",
     "text": [
      "Epoch 1/1000\n",
      "75/75 [==============================] - 1s 4ms/step - loss: 0.6893 - accuracy: 0.5168 - val_loss: 0.6780 - val_accuracy: 0.5882\n",
      "Epoch 2/1000\n",
      "75/75 [==============================] - 0s 2ms/step - loss: 0.6725 - accuracy: 0.6242 - val_loss: 0.6368 - val_accuracy: 0.8235\n",
      "Epoch 3/1000\n",
      "75/75 [==============================] - 0s 2ms/step - loss: 0.6396 - accuracy: 0.6846 - val_loss: 0.6009 - val_accuracy: 0.6471\n",
      "Epoch 4/1000\n",
      "75/75 [==============================] - 0s 2ms/step - loss: 0.5901 - accuracy: 0.6980 - val_loss: 0.5158 - val_accuracy: 0.7059\n",
      "Epoch 5/1000\n",
      "75/75 [==============================] - 0s 2ms/step - loss: 0.5447 - accuracy: 0.7517 - val_loss: 0.5743 - val_accuracy: 0.5882\n",
      "Epoch 6/1000\n",
      "75/75 [==============================] - 0s 2ms/step - loss: 0.5008 - accuracy: 0.7315 - val_loss: 0.5021 - val_accuracy: 0.5294\n",
      "Epoch 7/1000\n",
      "75/75 [==============================] - 0s 2ms/step - loss: 0.4530 - accuracy: 0.8054 - val_loss: 0.4628 - val_accuracy: 0.7059\n",
      "Epoch 8/1000\n",
      "75/75 [==============================] - 0s 2ms/step - loss: 0.4077 - accuracy: 0.8188 - val_loss: 0.3682 - val_accuracy: 0.8824\n",
      "Epoch 9/1000\n",
      "75/75 [==============================] - 0s 2ms/step - loss: 0.4034 - accuracy: 0.8188 - val_loss: 0.3271 - val_accuracy: 0.8824\n",
      "Epoch 10/1000\n",
      "75/75 [==============================] - 0s 2ms/step - loss: 0.3784 - accuracy: 0.8188 - val_loss: 0.3542 - val_accuracy: 0.8824\n",
      "Epoch 11/1000\n",
      "75/75 [==============================] - 0s 2ms/step - loss: 0.3435 - accuracy: 0.8389 - val_loss: 0.4009 - val_accuracy: 0.8235\n",
      "Epoch 12/1000\n",
      "75/75 [==============================] - 0s 2ms/step - loss: 0.2970 - accuracy: 0.8792 - val_loss: 0.5278 - val_accuracy: 0.7059\n",
      "Epoch 13/1000\n",
      "75/75 [==============================] - 0s 2ms/step - loss: 0.3000 - accuracy: 0.8792 - val_loss: 0.3883 - val_accuracy: 0.8235\n",
      "Epoch 14/1000\n",
      "75/75 [==============================] - 0s 2ms/step - loss: 0.2923 - accuracy: 0.9060 - val_loss: 0.3462 - val_accuracy: 0.8235\n",
      "Epoch 15/1000\n",
      "75/75 [==============================] - 0s 2ms/step - loss: 0.2569 - accuracy: 0.8993 - val_loss: 0.3733 - val_accuracy: 0.8235\n",
      "Epoch 16/1000\n",
      "75/75 [==============================] - 0s 3ms/step - loss: 0.2360 - accuracy: 0.8993 - val_loss: 0.2983 - val_accuracy: 0.8235\n",
      "Epoch 17/1000\n",
      "75/75 [==============================] - 0s 2ms/step - loss: 0.2953 - accuracy: 0.8792 - val_loss: 0.3632 - val_accuracy: 0.8235\n",
      "Epoch 18/1000\n",
      "75/75 [==============================] - 0s 2ms/step - loss: 0.2491 - accuracy: 0.8926 - val_loss: 0.3061 - val_accuracy: 0.8824\n",
      "Epoch 19/1000\n",
      "75/75 [==============================] - 0s 2ms/step - loss: 0.1709 - accuracy: 0.9396 - val_loss: 0.3391 - val_accuracy: 0.8235\n",
      "Epoch 20/1000\n",
      "75/75 [==============================] - 0s 2ms/step - loss: 0.1875 - accuracy: 0.9396 - val_loss: 0.2916 - val_accuracy: 0.7647\n",
      "Epoch 21/1000\n",
      "75/75 [==============================] - 0s 2ms/step - loss: 0.1711 - accuracy: 0.9463 - val_loss: 0.3409 - val_accuracy: 0.8824\n",
      "Epoch 22/1000\n",
      "75/75 [==============================] - 0s 2ms/step - loss: 0.1389 - accuracy: 0.9732 - val_loss: 0.4695 - val_accuracy: 0.8235\n",
      "Epoch 23/1000\n",
      "75/75 [==============================] - 0s 2ms/step - loss: 0.1665 - accuracy: 0.9329 - val_loss: 0.3829 - val_accuracy: 0.8235\n",
      "Epoch 24/1000\n",
      "75/75 [==============================] - 0s 3ms/step - loss: 0.1248 - accuracy: 0.9597 - val_loss: 0.4539 - val_accuracy: 0.8824\n",
      "Epoch 25/1000\n",
      "75/75 [==============================] - 0s 2ms/step - loss: 0.1097 - accuracy: 0.9530 - val_loss: 0.4183 - val_accuracy: 0.8824\n",
      "Epoch 26/1000\n",
      "75/75 [==============================] - 0s 2ms/step - loss: 0.0960 - accuracy: 0.9732 - val_loss: 0.3157 - val_accuracy: 0.8235\n",
      "Epoch 27/1000\n",
      "75/75 [==============================] - 0s 2ms/step - loss: 0.1131 - accuracy: 0.9732 - val_loss: 0.3757 - val_accuracy: 0.8235\n",
      "Epoch 28/1000\n",
      "75/75 [==============================] - 0s 2ms/step - loss: 0.0727 - accuracy: 0.9866 - val_loss: 0.3842 - val_accuracy: 0.8235\n"
     ]
    },
    {
     "data": {
      "text/plain": [
       "<keras.callbacks.History at 0x7f84905cc970>"
      ]
     },
     "execution_count": 8,
     "metadata": {},
     "output_type": "execute_result"
    }
   ],
   "source": [
    "n_epochs = 1000\n",
    "batch_size = 2\n",
    "model.fit(X_train, y_train, epochs=n_epochs, batch_size=batch_size, validation_split=0.1, callbacks=callbacks)"
   ]
  },
  {
   "cell_type": "code",
   "execution_count": 9,
   "metadata": {},
   "outputs": [
    {
     "name": "stdout",
     "output_type": "stream",
     "text": [
      "2/2 [==============================] - 0s 3ms/step - loss: 0.2651 - accuracy: 0.8810\n",
      "Test accuracy: 0.8809523582458496\n"
     ]
    }
   ],
   "source": [
    "score = model.evaluate(X_test, y_test, verbose=1)\n",
    "print('Test accuracy:', score[1]) #accuracy of the test set"
   ]
  },
  {
   "cell_type": "code",
   "execution_count": 10,
   "metadata": {},
   "outputs": [
    {
     "name": "stdout",
     "output_type": "stream",
     "text": [
      "Model: \"sequential\"\n",
      "_________________________________________________________________\n",
      " Layer (type)                Output Shape              Param #   \n",
      "=================================================================\n",
      " dense (Dense)               (None, 32)                1952      \n",
      "                                                                 \n",
      " dense_1 (Dense)             (None, 64)                2112      \n",
      "                                                                 \n",
      " dense_2 (Dense)             (None, 16)                1040      \n",
      "                                                                 \n",
      " dense_3 (Dense)             (None, 1)                 17        \n",
      "                                                                 \n",
      "=================================================================\n",
      "Total params: 5,121\n",
      "Trainable params: 5,121\n",
      "Non-trainable params: 0\n",
      "_________________________________________________________________\n"
     ]
    }
   ],
   "source": [
    "model.summary()"
   ]
  },
  {
   "cell_type": "code",
   "execution_count": null,
   "metadata": {},
   "outputs": [],
   "source": []
  }
 ],
 "metadata": {
  "kernelspec": {
   "display_name": "Python 3 (ipykernel)",
   "language": "python",
   "name": "python3"
  },
  "language_info": {
   "codemirror_mode": {
    "name": "ipython",
    "version": 3
   },
   "file_extension": ".py",
   "mimetype": "text/x-python",
   "name": "python",
   "nbconvert_exporter": "python",
   "pygments_lexer": "ipython3",
   "version": "3.8.10"
  },
  "widgets": {
   "state": {},
   "version": "1.1.2"
  }
 },
 "nbformat": 4,
 "nbformat_minor": 2
}
