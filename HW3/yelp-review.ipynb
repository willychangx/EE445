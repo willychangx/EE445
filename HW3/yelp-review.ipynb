{
 "cells": [
  {
   "cell_type": "code",
   "execution_count": 1,
   "id": "48c91765",
   "metadata": {},
   "outputs": [],
   "source": [
    "import numpy as np\n",
    "import pandas as pd\n",
    "import matplotlib.pyplot as plt\n",
    "\n",
    "from sklearn.linear_model import LinearRegression\n",
    "from sklearn.model_selection import KFold"
   ]
  },
  {
   "cell_type": "code",
   "execution_count": 2,
   "id": "2847e7bf",
   "metadata": {},
   "outputs": [],
   "source": [
    "labels = pd.read_csv('Data/upvote_features.txt', header=None)\n",
    "X = pd.read_csv('Data/upvote_data.csv', header=None)\n",
    "y = pd.read_csv('Data/upvote_labels.txt', header=None)"
   ]
  },
  {
   "cell_type": "markdown",
   "id": "4f104a61",
   "metadata": {},
   "source": [
    "## Problem 1a"
   ]
  },
  {
   "cell_type": "code",
   "execution_count": 3,
   "id": "0572634d",
   "metadata": {},
   "outputs": [],
   "source": [
    "X_mod = X.copy()\n",
    "# X_mod.insert(0,'bias',1)\n",
    "X_mod.columns = range(X_mod.columns.size)"
   ]
  },
  {
   "cell_type": "code",
   "execution_count": 4,
   "id": "a3e0a623",
   "metadata": {},
   "outputs": [],
   "source": [
    "train_x,train_y = X_mod.loc[:3999,:].values,y.loc[:3999,:].values\n",
    "test_x,test_y = X_mod.loc[4000:,:].values,y.loc[4000:,:].values"
   ]
  },
  {
   "cell_type": "code",
   "execution_count": 5,
   "id": "78856e33",
   "metadata": {},
   "outputs": [],
   "source": [
    "def mse(predict,actual):\n",
    "    return float(np.sum((np.reshape(actual,len(actual)) - predict)**2)/len(predict))"
   ]
  },
  {
   "cell_type": "code",
   "execution_count": 6,
   "id": "a2cd12e5",
   "metadata": {},
   "outputs": [
    {
     "name": "stdout",
     "output_type": "stream",
     "text": [
      "Training Error: 1.4783154406474576e+17\n"
     ]
    }
   ],
   "source": [
    "model = LinearRegression().fit(train_x,train_y)\n",
    "pred = model.predict(train_x)\n",
    "train_err = mse(pred,train_y)\n",
    "print(f\"Training Error: {train_err}\")"
   ]
  },
  {
   "cell_type": "code",
   "execution_count": 7,
   "id": "9aaf5c4c",
   "metadata": {},
   "outputs": [
    {
     "name": "stdout",
     "output_type": "stream",
     "text": [
      "Testing Error: 7.340999667672971e+16\n"
     ]
    }
   ],
   "source": [
    "pred = model.predict(test_x)\n",
    "test_err = mse(pred,test_y)\n",
    "print(f\"Testing Error: {test_err}\")"
   ]
  },
  {
   "cell_type": "code",
   "execution_count": 8,
   "id": "8adf6592",
   "metadata": {},
   "outputs": [
    {
     "name": "stdout",
     "output_type": "stream",
     "text": [
      "Validation Error: 4.680072490874591e+21\n"
     ]
    }
   ],
   "source": [
    "val_err = 0\n",
    "kf = KFold(n_splits=5, shuffle=True, random_state=1)\n",
    "for train_idx, test_idx in kf.split(train_x):\n",
    "    model = LinearRegression().fit(train_x[train_idx],train_y[train_idx])\n",
    "    pred = model.predict(train_x[test_idx])\n",
    "    val_err += mse(pred,train_y[test_idx])\n",
    "val_err /= 5\n",
    "print(f\"Validation Error: {val_err}\")"
   ]
  },
  {
   "cell_type": "markdown",
   "id": "9acc4d6e",
   "metadata": {},
   "source": [
    "## Problem 1b"
   ]
  },
  {
   "cell_type": "code",
   "execution_count": 9,
   "id": "36680759",
   "metadata": {},
   "outputs": [],
   "source": [
    "from sklearn import linear_model"
   ]
  },
  {
   "cell_type": "code",
   "execution_count": 10,
   "id": "cc9a1d61",
   "metadata": {},
   "outputs": [],
   "source": [
    "train_x,train_y = X.loc[:3999,:],y.loc[:3999,:]\n",
    "val_x,val_y = X.loc[4000:4999,:],y.loc[4000:4999,:]\n",
    "test_x,test_y = X.loc[5000:,:],y.loc[5000:,:]"
   ]
  },
  {
   "cell_type": "code",
   "execution_count": 11,
   "id": "ca818378",
   "metadata": {},
   "outputs": [],
   "source": [
    "import warnings \n",
    "warnings.filterwarnings(\"ignore\")\n",
    "\n",
    "# reg_constant = np.logspace(-10,1,num=10)\n",
    "reg_constant = [10**i for i in range(-10,1)]\n",
    "coef = []\n",
    "intercept = []\n",
    "train_err = []\n",
    "val_err = []\n",
    "for reg in reg_constant:\n",
    "    clf = linear_model.Lasso(alpha=reg,tol=3e-6,max_iter=1e4)\n",
    "    clf.fit(train_x.to_numpy(), train_y.to_numpy())\n",
    "    train_err.append(mse(clf.predict(train_x.to_numpy()), train_y.to_numpy()))\n",
    "    val_err.append(mse(clf.predict(val_x.to_numpy()), val_y.to_numpy()))\n",
    "    intercept.append(clf.intercept_)\n",
    "    coef.append(clf.coef_)"
   ]
  },
  {
   "cell_type": "code",
   "execution_count": 25,
   "id": "2c2401e9",
   "metadata": {},
   "outputs": [
    {
     "data": {
      "text/plain": [
       "Text(0, 0.5, 'Error')"
      ]
     },
     "execution_count": 25,
     "metadata": {},
     "output_type": "execute_result"
    },
    {
     "data": {
      "image/png": "[encoded data removed]",
      "text/plain": [
       "<Figure size 432x288 with 1 Axes>"
      ]
     },
     "metadata": {
      "needs_background": "light"
     },
     "output_type": "display_data"
    }
   ],
   "source": [
    "%matplotlib inline\n",
    "plt.loglog(reg_constant, train_err, label='Training Error')\n",
    "plt.loglog(reg_constant, val_err, label='Testing Error')\n",
    "plt.legend()\n",
    "plt.xlabel('Lambda')\n",
    "plt.ylabel('Error')"
   ]
  },
  {
   "cell_type": "code",
   "execution_count": 13,
   "id": "c7da69ee",
   "metadata": {},
   "outputs": [
    {
     "name": "stdout",
     "output_type": "stream",
     "text": [
      "Test Error for lambda = 1e-07: 2.465753626186577\n"
     ]
    }
   ],
   "source": [
    "alpha=1e-7\n",
    "\n",
    "clf = linear_model.Lasso(alpha=alpha,tol=3e-6,max_iter=1e4)\n",
    "clf.fit(test_x.to_numpy(), test_y.to_numpy())\n",
    "print(f\"Test Error for lambda = {alpha}: {mse(clf.predict(test_x.to_numpy()), test_y.to_numpy())}\")"
   ]
  },
  {
   "cell_type": "markdown",
   "id": "75c6877b",
   "metadata": {},
   "source": [
    "## Problem 1c"
   ]
  },
  {
   "cell_type": "code",
   "execution_count": 14,
   "id": "3955034a",
   "metadata": {},
   "outputs": [],
   "source": [
    "from tensorflow import keras\n",
    "\n",
    "from sklearn.model_selection import train_test_split\n",
    "\n",
    "from keras.models import Sequential\n",
    "from keras.layers import Dense, Dropout\n",
    "from keras.callbacks import EarlyStopping\n",
    "from keras.regularizers import L1\n",
    "\n",
    "from sklearn.preprocessing import StandardScaler\n",
    "\n",
    "SEED = 1"
   ]
  },
  {
   "cell_type": "code",
   "execution_count": 15,
   "id": "34508aef",
   "metadata": {},
   "outputs": [],
   "source": [
    "X_train, X_test, y_train, y_test = train_test_split(X, y, test_size=0.2, random_state=SEED)\n",
    "\n",
    "scaler = StandardScaler().fit(X_train)\n",
    "X_train = pd.DataFrame(scaler.transform(X_train))\n",
    "X_test = pd.DataFrame(scaler.transform(X_test))"
   ]
  },
  {
   "cell_type": "code",
   "execution_count": 16,
   "id": "fd8b24be",
   "metadata": {},
   "outputs": [],
   "source": [
    "alpha=1e-3"
   ]
  },
  {
   "cell_type": "code",
   "execution_count": 17,
   "id": "18960a12",
   "metadata": {},
   "outputs": [
    {
     "name": "stderr",
     "output_type": "stream",
     "text": [
      "2022-05-06 14:31:12.195864: I tensorflow/stream_executor/cuda/cuda_gpu_executor.cc:922] could not open file to read NUMA node: /sys/bus/pci/devices/0000:01:00.0/numa_node\n",
      "Your kernel may have been built without NUMA support.\n",
      "2022-05-06 14:31:12.200004: W tensorflow/stream_executor/platform/default/dso_loader.cc:64] Could not load dynamic library 'libcusolver.so.11'; dlerror: libcusolver.so.11: cannot open shared object file: No such file or directory\n",
      "2022-05-06 14:31:12.200459: W tensorflow/stream_executor/platform/default/dso_loader.cc:64] Could not load dynamic library 'libcudnn.so.8'; dlerror: libcudnn.so.8: cannot open shared object file: No such file or directory\n",
      "2022-05-06 14:31:12.200472: W tensorflow/core/common_runtime/gpu/gpu_device.cc:1850] Cannot dlopen some GPU libraries. Please make sure the missing libraries mentioned above are installed properly if you would like to use GPU. Follow the guide at https://www.tensorflow.org/install/gpu for how to download and setup the required libraries for your platform.\n",
      "Skipping registering GPU devices...\n",
      "2022-05-06 14:31:12.201476: I tensorflow/core/platform/cpu_feature_guard.cc:151] This TensorFlow binary is optimized with oneAPI Deep Neural Network Library (oneDNN) to use the following CPU instructions in performance-critical operations:  AVX2 FMA\n",
      "To enable them in other operations, rebuild TensorFlow with the appropriate compiler flags.\n"
     ]
    }
   ],
   "source": [
    "model = Sequential()\n",
    "model.add(Dense(1, input_dim=X_train.shape[1], kernel_regularizer=L1(l1=alpha), activation='relu')) \n",
    "model.add(Dropout(0.5))\n",
    "model.add(Dense(1024, kernel_regularizer=L1(l1=alpha), activation='relu')) \n",
    "model.add(Dropout(0.5))\n",
    "model.add(Dense(1, kernel_regularizer=L1(l1=alpha), activation='linear'))\n",
    "\n",
    "model.compile(loss='mse', optimizer=\"adam\", metrics=['accuracy']) "
   ]
  },
  {
   "cell_type": "code",
   "execution_count": 18,
   "id": "0ae182af",
   "metadata": {},
   "outputs": [],
   "source": [
    "callbacks = [EarlyStopping(monitor='val_loss', patience=10, verbose=2)]"
   ]
  },
  {
   "cell_type": "code",
   "execution_count": 19,
   "id": "cb04e26b",
   "metadata": {},
   "outputs": [],
   "source": [
    "batch_size = 128\n",
    "n_epochs = 200"
   ]
  },
  {
   "cell_type": "code",
   "execution_count": 20,
   "id": "1cc55a20",
   "metadata": {},
   "outputs": [
    {
     "name": "stdout",
     "output_type": "stream",
     "text": [
      "Epoch 1/200\n",
      "30/30 - 1s - loss: 7.4835 - accuracy: 0.4112 - val_loss: 7.1940 - val_accuracy: 0.3990 - 749ms/epoch - 25ms/step\n",
      "Epoch 2/200\n",
      "30/30 - 0s - loss: 5.8441 - accuracy: 0.2828 - val_loss: 6.7690 - val_accuracy: 0.3115 - 114ms/epoch - 4ms/step\n",
      "Epoch 3/200\n",
      "30/30 - 0s - loss: 5.6844 - accuracy: 0.2724 - val_loss: 6.6329 - val_accuracy: 0.3115 - 122ms/epoch - 4ms/step\n",
      "Epoch 4/200\n",
      "30/30 - 0s - loss: 5.6819 - accuracy: 0.2724 - val_loss: 6.6193 - val_accuracy: 0.3115 - 115ms/epoch - 4ms/step\n",
      "Epoch 5/200\n",
      "30/30 - 0s - loss: 5.5243 - accuracy: 0.2724 - val_loss: 6.5552 - val_accuracy: 0.3115 - 112ms/epoch - 4ms/step\n",
      "Epoch 6/200\n",
      "30/30 - 0s - loss: 5.4666 - accuracy: 0.2724 - val_loss: 6.4845 - val_accuracy: 0.3115 - 109ms/epoch - 4ms/step\n",
      "Epoch 7/200\n",
      "30/30 - 0s - loss: 5.3426 - accuracy: 0.2724 - val_loss: 6.6404 - val_accuracy: 0.3115 - 110ms/epoch - 4ms/step\n",
      "Epoch 8/200\n",
      "30/30 - 0s - loss: 5.6060 - accuracy: 0.2724 - val_loss: 6.5521 - val_accuracy: 0.3115 - 117ms/epoch - 4ms/step\n",
      "Epoch 9/200\n",
      "30/30 - 0s - loss: 5.4140 - accuracy: 0.2724 - val_loss: 6.4132 - val_accuracy: 0.3115 - 115ms/epoch - 4ms/step\n",
      "Epoch 10/200\n",
      "30/30 - 0s - loss: 5.4229 - accuracy: 0.2724 - val_loss: 6.3130 - val_accuracy: 0.3115 - 240ms/epoch - 8ms/step\n",
      "Epoch 11/200\n",
      "30/30 - 0s - loss: 5.5156 - accuracy: 0.2724 - val_loss: 6.5579 - val_accuracy: 0.3115 - 152ms/epoch - 5ms/step\n",
      "Epoch 12/200\n",
      "30/30 - 0s - loss: 5.3788 - accuracy: 0.2724 - val_loss: 6.5099 - val_accuracy: 0.3115 - 129ms/epoch - 4ms/step\n",
      "Epoch 13/200\n",
      "30/30 - 0s - loss: 5.4673 - accuracy: 0.2724 - val_loss: 6.5131 - val_accuracy: 0.3115 - 139ms/epoch - 5ms/step\n",
      "Epoch 14/200\n",
      "30/30 - 0s - loss: 5.5100 - accuracy: 0.2724 - val_loss: 6.4563 - val_accuracy: 0.3115 - 117ms/epoch - 4ms/step\n",
      "Epoch 15/200\n",
      "30/30 - 0s - loss: 5.5184 - accuracy: 0.2724 - val_loss: 6.5348 - val_accuracy: 0.3115 - 114ms/epoch - 4ms/step\n",
      "Epoch 16/200\n",
      "30/30 - 0s - loss: 5.5428 - accuracy: 0.2724 - val_loss: 6.5143 - val_accuracy: 0.3115 - 116ms/epoch - 4ms/step\n",
      "Epoch 17/200\n",
      "30/30 - 0s - loss: 5.2384 - accuracy: 0.2724 - val_loss: 6.5051 - val_accuracy: 0.3115 - 125ms/epoch - 4ms/step\n",
      "Epoch 18/200\n",
      "30/30 - 0s - loss: 5.2323 - accuracy: 0.2724 - val_loss: 6.4012 - val_accuracy: 0.3115 - 165ms/epoch - 5ms/step\n",
      "Epoch 19/200\n",
      "30/30 - 0s - loss: 5.2580 - accuracy: 0.2724 - val_loss: 6.5041 - val_accuracy: 0.3115 - 125ms/epoch - 4ms/step\n",
      "Epoch 20/200\n",
      "30/30 - 0s - loss: 5.0409 - accuracy: 0.2724 - val_loss: 6.4037 - val_accuracy: 0.3115 - 116ms/epoch - 4ms/step\n",
      "Epoch 20: early stopping\n"
     ]
    },
    {
     "data": {
      "text/plain": [
       "<keras.callbacks.History at 0x7f9ccb74c2e0>"
      ]
     },
     "execution_count": 20,
     "metadata": {},
     "output_type": "execute_result"
    }
   ],
   "source": [
    "model.fit(X_train.values, y_train, batch_size=batch_size, epochs=n_epochs, validation_split=0.2,     \n",
    "             verbose=2, callbacks=callbacks)"
   ]
  },
  {
   "cell_type": "code",
   "execution_count": 21,
   "id": "64b8b1ac",
   "metadata": {},
   "outputs": [
    {
     "name": "stdout",
     "output_type": "stream",
     "text": [
      "38/38 [==============================] - 0s 1ms/step - loss: 3.3966 - accuracy: 0.2908\n",
      "Test accuracy: 29.08%\n",
      "Test MSE: 3.40\n"
     ]
    }
   ],
   "source": [
    "score = model.evaluate(X_test.values, y_test)\n",
    "print('Test accuracy: %.2f%%' % (score[1]*100))\n",
    "print('Test MSE: %.2f' % (score[0]))"
   ]
  },
  {
   "cell_type": "code",
   "execution_count": 22,
   "id": "46337bf6",
   "metadata": {},
   "outputs": [
    {
     "name": "stdout",
     "output_type": "stream",
     "text": [
      "Model: \"sequential\"\n",
      "_________________________________________________________________\n",
      " Layer (type)                Output Shape              Param #   \n",
      "=================================================================\n",
      " dense (Dense)               (None, 1)                 1001      \n",
      "                                                                 \n",
      " dropout (Dropout)           (None, 1)                 0         \n",
      "                                                                 \n",
      " dense_1 (Dense)             (None, 1024)              2048      \n",
      "                                                                 \n",
      " dropout_1 (Dropout)         (None, 1024)              0         \n",
      "                                                                 \n",
      " dense_2 (Dense)             (None, 1)                 1025      \n",
      "                                                                 \n",
      "=================================================================\n",
      "Total params: 4,074\n",
      "Trainable params: 4,074\n",
      "Non-trainable params: 0\n",
      "_________________________________________________________________\n"
     ]
    }
   ],
   "source": [
    "model.summary()"
   ]
  },
  {
   "cell_type": "code",
   "execution_count": null,
   "id": "da60105f",
   "metadata": {},
   "outputs": [],
   "source": []
  }
 ],
 "metadata": {
  "kernelspec": {
   "display_name": "Python 3 (ipykernel)",
   "language": "python",
   "name": "python3"
  },
  "language_info": {
   "codemirror_mode": {
    "name": "ipython",
    "version": 3
   },
   "file_extension": ".py",
   "mimetype": "text/x-python",
   "name": "python",
   "nbconvert_exporter": "python",
   "pygments_lexer": "ipython3",
   "version": "3.8.10"
  }
 },
 "nbformat": 4,
 "nbformat_minor": 5
}
