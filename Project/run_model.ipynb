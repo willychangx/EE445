{
 "cells": [
  {
   "cell_type": "code",
   "execution_count": 10,
   "id": "2fbe0cae",
   "metadata": {},
   "outputs": [],
   "source": [
    "import keras\n",
    "import pandas as pd\n",
    "from sklearn.preprocessing import LabelEncoder, MinMaxScaler\n",
    "from sklearn.model_selection import train_test_split\n",
    "SEED = 1\n",
    "\n",
    "# load model\n",
    "model = keras.models.load_model('respsimple')"
   ]
  },
  {
   "cell_type": "markdown",
   "id": "c32aacb8",
   "metadata": {},
   "source": [
    "# Import Data in Below Cell"
   ]
  },
  {
   "cell_type": "code",
   "execution_count": 2,
   "id": "811cb1ad",
   "metadata": {},
   "outputs": [],
   "source": [
    "# import data\n",
    "# here is an example assuming data is in csv file similar to given AMLtrain.csv\n",
    "testing_data = pd.read_csv('AMLtrain.csv')"
   ]
  },
  {
   "cell_type": "markdown",
   "id": "0f10bc89",
   "metadata": {},
   "source": [
    "# WARNING: Should not need to modify below cells."
   ]
  },
  {
   "cell_type": "code",
   "execution_count": 3,
   "id": "34100d64",
   "metadata": {},
   "outputs": [],
   "source": [
    "data = pd.read_csv('AMLtrain.csv')"
   ]
  },
  {
   "cell_type": "code",
   "execution_count": 4,
   "id": "4dcc145c",
   "metadata": {},
   "outputs": [],
   "source": [
    "target_col = ['respsimple']\n",
    "y = data[target_col[0]]\n",
    "test_y = testing_data[target_col[0]]\n",
    "\n",
    "#change output to 0, 1 class label\n",
    "encoder = LabelEncoder()\n",
    "encoder.fit(y)\n",
    "y = encoder.transform(y)\n",
    "test_y = encoder.transform(test_y)"
   ]
  },
  {
   "cell_type": "code",
   "execution_count": 5,
   "id": "9ae66550",
   "metadata": {},
   "outputs": [],
   "source": [
    "cat_columns = ['Patient_id','SEX','PRIORMAL','PRIORCHEMO','PRIORXRT','Infection','cytocat','ITD','D835','RasStat','ChemoSimplest'\n",
    "]\n",
    "\n",
    "# remove categorical columns\n",
    "X = data.copy().drop(columns=cat_columns).drop(columns=target_col)\n",
    "test_X = testing_data.copy().drop(columns=cat_columns).drop(columns=target_col)\n",
    "\n",
    "# replace missing values with mean\n",
    "for col in X.columns:\n",
    "    X[col] = X[col].fillna(X[col].mean())\n",
    "    test_X[col] = test_X[col].fillna(test_X[col].mean())"
   ]
  },
  {
   "cell_type": "code",
   "execution_count": 8,
   "id": "a474584b",
   "metadata": {},
   "outputs": [],
   "source": [
    "X_train, _, y_train, _ = train_test_split(X, y, test_size=0.2, random_state=SEED)"
   ]
  },
  {
   "cell_type": "code",
   "execution_count": 11,
   "id": "c4e49b57",
   "metadata": {},
   "outputs": [],
   "source": [
    "norm = MinMaxScaler().fit(X_train)\n",
    "\n",
    "X_train = norm.transform(X_train)\n",
    "test_X = norm.transform(test_X)"
   ]
  },
  {
   "cell_type": "code",
   "execution_count": 12,
   "id": "99b2777f",
   "metadata": {},
   "outputs": [
    {
     "name": "stdout",
     "output_type": "stream",
     "text": [
      "6/6 [==============================] - 0s 659us/step - loss: 0.4156 - accuracy: 0.7845\n",
      "Test Loss: 0.41561657190322876\n",
      "Test Accuracy: 0.7845304012298584\n"
     ]
    }
   ],
   "source": [
    "score = model.evaluate(test_X, test_y)\n",
    "\n",
    "print(f\"Test Loss: {score[0]}\")\n",
    "print(f\"Test Accuracy: {score[1]}\")"
   ]
  },
  {
   "cell_type": "code",
   "execution_count": null,
   "id": "25f892af",
   "metadata": {},
   "outputs": [],
   "source": []
  }
 ],
 "metadata": {
  "kernelspec": {
   "display_name": "Python 3 (ipykernel)",
   "language": "python",
   "name": "python3"
  },
  "language_info": {
   "codemirror_mode": {
    "name": "ipython",
    "version": 3
   },
   "file_extension": ".py",
   "mimetype": "text/x-python",
   "name": "python",
   "nbconvert_exporter": "python",
   "pygments_lexer": "ipython3",
   "version": "3.8.10"
  }
 },
 "nbformat": 4,
 "nbformat_minor": 5
}
