{
 "cells": [
  {
   "cell_type": "code",
   "execution_count": 1,
   "id": "c5c952ae",
   "metadata": {},
   "outputs": [
    {
     "name": "stderr",
     "output_type": "stream",
     "text": [
      "2022-04-25 18:14:56.334673: W tensorflow/stream_executor/platform/default/dso_loader.cc:64] Could not load dynamic library 'libcudart.so.11.0'; dlerror: libcudart.so.11.0: cannot open shared object file: No such file or directory\n",
      "2022-04-25 18:14:56.334723: I tensorflow/stream_executor/cuda/cudart_stub.cc:29] Ignore above cudart dlerror if you do not have a GPU set up on your machine.\n"
     ]
    }
   ],
   "source": [
    "import numpy as np\n",
    "import pandas as pd\n",
    "from sklearn.preprocessing import LabelEncoder\n",
    "from sklearn.preprocessing import MinMaxScaler\n",
    "from sklearn.model_selection import train_test_split\n",
    "\n",
    "import matplotlib.pyplot as plt\n",
    "\n",
    "from keras.models import Sequential\n",
    "from keras.layers import Dense, Dropout\n",
    "from keras.callbacks import EarlyStopping"
   ]
  },
  {
   "cell_type": "code",
   "execution_count": 2,
   "id": "d50ee124",
   "metadata": {},
   "outputs": [],
   "source": [
    "data = pd.read_csv('AMLtrain.csv')"
   ]
  },
  {
   "cell_type": "code",
   "execution_count": 3,
   "id": "50cde90b",
   "metadata": {},
   "outputs": [],
   "source": [
    "target_col = ['respsimple']\n",
    "y = data[target_col[0]]\n",
    "\n",
    "#change output to 0, 1 class label\n",
    "encoder = LabelEncoder()\n",
    "encoder.fit(y)\n",
    "y = encoder.transform(y)"
   ]
  },
  {
   "cell_type": "code",
   "execution_count": 4,
   "id": "c9df1acd",
   "metadata": {},
   "outputs": [
    {
     "data": {
      "text/html": [
       "<div>\n",
       "<style scoped>\n",
       "    .dataframe tbody tr th:only-of-type {\n",
       "        vertical-align: middle;\n",
       "    }\n",
       "\n",
       "    .dataframe tbody tr th {\n",
       "        vertical-align: top;\n",
       "    }\n",
       "\n",
       "    .dataframe thead th {\n",
       "        text-align: right;\n",
       "    }\n",
       "</style>\n",
       "<table border=\"1\" class=\"dataframe\">\n",
       "  <thead>\n",
       "    <tr style=\"text-align: right;\">\n",
       "      <th></th>\n",
       "      <th>AgeatDx</th>\n",
       "      <th>AHD</th>\n",
       "      <th>WBC</th>\n",
       "      <th>ABSBLST</th>\n",
       "      <th>BMBLAST</th>\n",
       "      <th>BMMONOCYTES</th>\n",
       "      <th>BMPROM</th>\n",
       "      <th>PBBLAST</th>\n",
       "      <th>PBMONO</th>\n",
       "      <th>PBPROM</th>\n",
       "      <th>...</th>\n",
       "      <th>VHL</th>\n",
       "      <th>WTAP</th>\n",
       "      <th>XIAP</th>\n",
       "      <th>XPO1</th>\n",
       "      <th>YAP1</th>\n",
       "      <th>YAP1p</th>\n",
       "      <th>YWHAE</th>\n",
       "      <th>YWHAZ</th>\n",
       "      <th>ZNF296</th>\n",
       "      <th>ZNF346</th>\n",
       "    </tr>\n",
       "  </thead>\n",
       "  <tbody>\n",
       "    <tr>\n",
       "      <th>0</th>\n",
       "      <td>63.85</td>\n",
       "      <td>0</td>\n",
       "      <td>10.8</td>\n",
       "      <td>1188.0</td>\n",
       "      <td>35.0</td>\n",
       "      <td>36.000000</td>\n",
       "      <td>2.000000</td>\n",
       "      <td>11.0</td>\n",
       "      <td>17.000000</td>\n",
       "      <td>0.000000</td>\n",
       "      <td>...</td>\n",
       "      <td>-0.722347</td>\n",
       "      <td>-0.887311</td>\n",
       "      <td>1.140104</td>\n",
       "      <td>-0.199574</td>\n",
       "      <td>-0.598099</td>\n",
       "      <td>-1.086189</td>\n",
       "      <td>-1.182815</td>\n",
       "      <td>0.336552</td>\n",
       "      <td>-0.291540</td>\n",
       "      <td>-0.156785</td>\n",
       "    </tr>\n",
       "    <tr>\n",
       "      <th>1</th>\n",
       "      <td>57.45</td>\n",
       "      <td>24</td>\n",
       "      <td>2.7</td>\n",
       "      <td>0.0</td>\n",
       "      <td>26.0</td>\n",
       "      <td>0.000000</td>\n",
       "      <td>0.000000</td>\n",
       "      <td>0.0</td>\n",
       "      <td>0.500000</td>\n",
       "      <td>0.000000</td>\n",
       "      <td>...</td>\n",
       "      <td>-0.401240</td>\n",
       "      <td>0.228719</td>\n",
       "      <td>2.025590</td>\n",
       "      <td>-0.268515</td>\n",
       "      <td>0.035639</td>\n",
       "      <td>-0.498447</td>\n",
       "      <td>-0.391924</td>\n",
       "      <td>-0.654588</td>\n",
       "      <td>0.110702</td>\n",
       "      <td>1.260718</td>\n",
       "    </tr>\n",
       "    <tr>\n",
       "      <th>2</th>\n",
       "      <td>59.49</td>\n",
       "      <td>5</td>\n",
       "      <td>1.3</td>\n",
       "      <td>0.0</td>\n",
       "      <td>35.0</td>\n",
       "      <td>1.000000</td>\n",
       "      <td>2.000000</td>\n",
       "      <td>0.0</td>\n",
       "      <td>5.000000</td>\n",
       "      <td>0.000000</td>\n",
       "      <td>...</td>\n",
       "      <td>0.322115</td>\n",
       "      <td>0.578631</td>\n",
       "      <td>-1.918884</td>\n",
       "      <td>-1.485057</td>\n",
       "      <td>-0.214276</td>\n",
       "      <td>-0.115862</td>\n",
       "      <td>0.503870</td>\n",
       "      <td>-0.263103</td>\n",
       "      <td>-0.500761</td>\n",
       "      <td>0.147560</td>\n",
       "    </tr>\n",
       "    <tr>\n",
       "      <th>3</th>\n",
       "      <td>46.38</td>\n",
       "      <td>0</td>\n",
       "      <td>0.8</td>\n",
       "      <td>16.0</td>\n",
       "      <td>0.0</td>\n",
       "      <td>4.162011</td>\n",
       "      <td>1.413408</td>\n",
       "      <td>2.0</td>\n",
       "      <td>11.900463</td>\n",
       "      <td>0.608333</td>\n",
       "      <td>...</td>\n",
       "      <td>0.460794</td>\n",
       "      <td>-0.724971</td>\n",
       "      <td>2.274829</td>\n",
       "      <td>0.837169</td>\n",
       "      <td>-0.240740</td>\n",
       "      <td>-0.788800</td>\n",
       "      <td>-0.986515</td>\n",
       "      <td>-0.510208</td>\n",
       "      <td>0.910813</td>\n",
       "      <td>-0.303119</td>\n",
       "    </tr>\n",
       "    <tr>\n",
       "      <th>4</th>\n",
       "      <td>66.95</td>\n",
       "      <td>0</td>\n",
       "      <td>2.0</td>\n",
       "      <td>160.0</td>\n",
       "      <td>34.0</td>\n",
       "      <td>3.000000</td>\n",
       "      <td>1.000000</td>\n",
       "      <td>8.0</td>\n",
       "      <td>5.000000</td>\n",
       "      <td>0.000000</td>\n",
       "      <td>...</td>\n",
       "      <td>-0.330346</td>\n",
       "      <td>-1.460989</td>\n",
       "      <td>0.004068</td>\n",
       "      <td>-1.152868</td>\n",
       "      <td>0.450986</td>\n",
       "      <td>0.753539</td>\n",
       "      <td>0.011574</td>\n",
       "      <td>-0.973533</td>\n",
       "      <td>-0.599299</td>\n",
       "      <td>0.459281</td>\n",
       "    </tr>\n",
       "  </tbody>\n",
       "</table>\n",
       "<p>5 rows × 256 columns</p>\n",
       "</div>"
      ],
      "text/plain": [
       "   AgeatDx  AHD   WBC  ABSBLST  BMBLAST  BMMONOCYTES    BMPROM  PBBLAST  \\\n",
       "0    63.85    0  10.8   1188.0     35.0    36.000000  2.000000     11.0   \n",
       "1    57.45   24   2.7      0.0     26.0     0.000000  0.000000      0.0   \n",
       "2    59.49    5   1.3      0.0     35.0     1.000000  2.000000      0.0   \n",
       "3    46.38    0   0.8     16.0      0.0     4.162011  1.413408      2.0   \n",
       "4    66.95    0   2.0    160.0     34.0     3.000000  1.000000      8.0   \n",
       "\n",
       "      PBMONO    PBPROM  ...       VHL      WTAP      XIAP      XPO1      YAP1  \\\n",
       "0  17.000000  0.000000  ... -0.722347 -0.887311  1.140104 -0.199574 -0.598099   \n",
       "1   0.500000  0.000000  ... -0.401240  0.228719  2.025590 -0.268515  0.035639   \n",
       "2   5.000000  0.000000  ...  0.322115  0.578631 -1.918884 -1.485057 -0.214276   \n",
       "3  11.900463  0.608333  ...  0.460794 -0.724971  2.274829  0.837169 -0.240740   \n",
       "4   5.000000  0.000000  ... -0.330346 -1.460989  0.004068 -1.152868  0.450986   \n",
       "\n",
       "      YAP1p     YWHAE     YWHAZ    ZNF296    ZNF346  \n",
       "0 -1.086189 -1.182815  0.336552 -0.291540 -0.156785  \n",
       "1 -0.498447 -0.391924 -0.654588  0.110702  1.260718  \n",
       "2 -0.115862  0.503870 -0.263103 -0.500761  0.147560  \n",
       "3 -0.788800 -0.986515 -0.510208  0.910813 -0.303119  \n",
       "4  0.753539  0.011574 -0.973533 -0.599299  0.459281  \n",
       "\n",
       "[5 rows x 256 columns]"
      ]
     },
     "execution_count": 4,
     "metadata": {},
     "output_type": "execute_result"
    }
   ],
   "source": [
    "cat_columns = ['Patient_id','SEX','PRIORMAL','PRIORCHEMO','PRIORXRT','Infection','cytocat','ITD','D835','RasStat','ChemoSimplest'\n",
    "]\n",
    "X = data.copy().drop(columns=cat_columns).drop(columns=target_col)\n",
    "for col in X.columns:\n",
    "    X[col] = X[col].fillna(X[col].mean())\n",
    "\n",
    "X.head()"
   ]
  },
  {
   "cell_type": "code",
   "execution_count": 5,
   "id": "757effbd",
   "metadata": {},
   "outputs": [],
   "source": [
    "X_train, X_test, y_train, y_test = train_test_split(X, y, test_size=0.2, random_state=100)"
   ]
  },
  {
   "cell_type": "code",
   "execution_count": 6,
   "id": "1ee788f9",
   "metadata": {},
   "outputs": [],
   "source": [
    "norm = MinMaxScaler().fit(X_train)\n",
    "\n",
    "X_train = norm.transform(X_train)\n",
    "X_test = norm.transform(X_test)"
   ]
  },
  {
   "cell_type": "code",
   "execution_count": 7,
   "id": "452b1478",
   "metadata": {},
   "outputs": [
    {
     "name": "stderr",
     "output_type": "stream",
     "text": [
      "2022-04-25 18:14:57.646918: W tensorflow/stream_executor/platform/default/dso_loader.cc:64] Could not load dynamic library 'libcuda.so.1'; dlerror: libcuda.so.1: cannot open shared object file: No such file or directory\n",
      "2022-04-25 18:14:57.646974: W tensorflow/stream_executor/cuda/cuda_driver.cc:269] failed call to cuInit: UNKNOWN ERROR (303)\n",
      "2022-04-25 18:14:57.647013: I tensorflow/stream_executor/cuda/cuda_diagnostics.cc:156] kernel driver does not appear to be running on this host (Willy): /proc/driver/nvidia/version does not exist\n",
      "2022-04-25 18:14:57.647321: I tensorflow/core/platform/cpu_feature_guard.cc:151] This TensorFlow binary is optimized with oneAPI Deep Neural Network Library (oneDNN) to use the following CPU instructions in performance-critical operations:  AVX2 FMA\n",
      "To enable them in other operations, rebuild TensorFlow with the appropriate compiler flags.\n"
     ]
    }
   ],
   "source": [
    "model = Sequential()\n",
    "model.add(Dense(256, input_dim=len(X.columns), activation='relu'))\n",
    "model.add(Dropout(0.5))\n",
    "model.add(Dense(128, activation='relu'))\n",
    "model.add(Dropout(0.5))\n",
    "model.add(Dense(256, input_dim=len(X.columns), activation='relu'))\n",
    "model.add(Dropout(0.5))\n",
    "model.add(Dense(1, activation='sigmoid'))\n",
    "model.compile(loss='binary_crossentropy', optimizer='adam', metrics=['accuracy'])"
   ]
  },
  {
   "cell_type": "code",
   "execution_count": 8,
   "id": "69176120",
   "metadata": {},
   "outputs": [],
   "source": [
    "callbacks = [EarlyStopping(monitor='val_accuracy', patience=20)]"
   ]
  },
  {
   "cell_type": "code",
   "execution_count": 9,
   "id": "5e4e7807",
   "metadata": {},
   "outputs": [
    {
     "name": "stdout",
     "output_type": "stream",
     "text": [
      "Epoch 1/100\n",
      "13/13 [==============================] - 0s 9ms/step - loss: 0.6500 - accuracy: 0.6512 - val_loss: 0.5957 - val_accuracy: 0.7333\n",
      "Epoch 2/100\n",
      "13/13 [==============================] - 0s 2ms/step - loss: 0.6135 - accuracy: 0.7132 - val_loss: 0.5910 - val_accuracy: 0.7333\n",
      "Epoch 3/100\n",
      "13/13 [==============================] - 0s 2ms/step - loss: 0.6352 - accuracy: 0.6667 - val_loss: 0.5791 - val_accuracy: 0.7333\n",
      "Epoch 4/100\n",
      "13/13 [==============================] - 0s 2ms/step - loss: 0.5874 - accuracy: 0.7132 - val_loss: 0.5675 - val_accuracy: 0.7333\n",
      "Epoch 5/100\n",
      "13/13 [==============================] - 0s 2ms/step - loss: 0.5984 - accuracy: 0.7132 - val_loss: 0.5685 - val_accuracy: 0.7333\n",
      "Epoch 6/100\n",
      "13/13 [==============================] - 0s 2ms/step - loss: 0.5910 - accuracy: 0.7287 - val_loss: 0.5873 - val_accuracy: 0.7333\n",
      "Epoch 7/100\n",
      "13/13 [==============================] - 0s 2ms/step - loss: 0.5921 - accuracy: 0.7132 - val_loss: 0.5694 - val_accuracy: 0.7333\n",
      "Epoch 8/100\n",
      "13/13 [==============================] - 0s 2ms/step - loss: 0.5884 - accuracy: 0.7287 - val_loss: 0.5754 - val_accuracy: 0.7333\n",
      "Epoch 9/100\n",
      "13/13 [==============================] - 0s 2ms/step - loss: 0.5704 - accuracy: 0.7364 - val_loss: 0.5747 - val_accuracy: 0.7333\n",
      "Epoch 10/100\n",
      "13/13 [==============================] - 0s 2ms/step - loss: 0.5622 - accuracy: 0.7132 - val_loss: 0.5603 - val_accuracy: 0.7333\n",
      "Epoch 11/100\n",
      "13/13 [==============================] - 0s 2ms/step - loss: 0.6368 - accuracy: 0.7287 - val_loss: 0.5979 - val_accuracy: 0.7333\n",
      "Epoch 12/100\n",
      "13/13 [==============================] - 0s 2ms/step - loss: 0.5855 - accuracy: 0.6899 - val_loss: 0.5659 - val_accuracy: 0.7333\n",
      "Epoch 13/100\n",
      "13/13 [==============================] - 0s 2ms/step - loss: 0.5777 - accuracy: 0.7364 - val_loss: 0.5627 - val_accuracy: 0.7333\n",
      "Epoch 14/100\n",
      "13/13 [==============================] - 0s 2ms/step - loss: 0.5707 - accuracy: 0.7442 - val_loss: 0.5530 - val_accuracy: 0.7333\n",
      "Epoch 15/100\n",
      "13/13 [==============================] - 0s 2ms/step - loss: 0.5641 - accuracy: 0.7442 - val_loss: 0.5717 - val_accuracy: 0.7333\n",
      "Epoch 16/100\n",
      "13/13 [==============================] - 0s 2ms/step - loss: 0.5823 - accuracy: 0.7209 - val_loss: 0.5708 - val_accuracy: 0.7333\n",
      "Epoch 17/100\n",
      "13/13 [==============================] - 0s 2ms/step - loss: 0.5479 - accuracy: 0.7364 - val_loss: 0.5514 - val_accuracy: 0.7333\n",
      "Epoch 18/100\n",
      "13/13 [==============================] - 0s 2ms/step - loss: 0.5579 - accuracy: 0.7287 - val_loss: 0.5584 - val_accuracy: 0.7333\n",
      "Epoch 19/100\n",
      "13/13 [==============================] - 0s 2ms/step - loss: 0.5562 - accuracy: 0.7442 - val_loss: 0.5493 - val_accuracy: 0.7333\n",
      "Epoch 20/100\n",
      "13/13 [==============================] - 0s 2ms/step - loss: 0.5511 - accuracy: 0.7209 - val_loss: 0.5604 - val_accuracy: 0.7333\n",
      "Epoch 21/100\n",
      "13/13 [==============================] - 0s 2ms/step - loss: 0.5813 - accuracy: 0.7054 - val_loss: 0.5445 - val_accuracy: 0.7333\n"
     ]
    },
    {
     "data": {
      "text/plain": [
       "<keras.callbacks.History at 0x7fe49448ae50>"
      ]
     },
     "execution_count": 9,
     "metadata": {},
     "output_type": "execute_result"
    }
   ],
   "source": [
    "n_epochs = 100\n",
    "batch_size = 10\n",
    "model.fit(X_train, y_train, epochs=n_epochs, batch_size=batch_size, validation_split=0.1, callbacks=callbacks)"
   ]
  },
  {
   "cell_type": "code",
   "execution_count": 10,
   "id": "a95b0a72",
   "metadata": {},
   "outputs": [
    {
     "name": "stdout",
     "output_type": "stream",
     "text": [
      "2/2 [==============================] - 0s 1ms/step - loss: 0.5938 - accuracy: 0.7027\n",
      "Test accuracy: 0.7027027010917664\n"
     ]
    }
   ],
   "source": [
    "score = model.evaluate(X_test, y_test, verbose=1)\n",
    "print('Test accuracy:', score[1]) #accuracy of the test set"
   ]
  },
  {
   "cell_type": "code",
   "execution_count": null,
   "id": "f1e120f8",
   "metadata": {},
   "outputs": [],
   "source": []
  }
 ],
 "metadata": {
  "kernelspec": {
   "display_name": "Python 3 (ipykernel)",
   "language": "python",
   "name": "python3"
  },
  "language_info": {
   "codemirror_mode": {
    "name": "ipython",
    "version": 3
   },
   "file_extension": ".py",
   "mimetype": "text/x-python",
   "name": "python",
   "nbconvert_exporter": "python",
   "pygments_lexer": "ipython3",
   "version": "3.8.10"
  }
 },
 "nbformat": 4,
 "nbformat_minor": 5
}
